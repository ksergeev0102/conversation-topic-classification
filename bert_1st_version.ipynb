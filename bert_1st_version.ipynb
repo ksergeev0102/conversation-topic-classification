{
 "cells": [
  {
   "cell_type": "code",
   "execution_count": 1,
   "id": "decimal-macro",
   "metadata": {
    "ExecuteTime": {
     "end_time": "2021-04-14T12:25:05.875816Z",
     "start_time": "2021-04-14T12:25:04.945838Z"
    }
   },
   "outputs": [],
   "source": [
    "import os\n",
    "import pandas as pd\n",
    "import matplotlib.pyplot as plt"
   ]
  },
  {
   "cell_type": "code",
   "execution_count": 2,
   "id": "scenic-guinea",
   "metadata": {
    "ExecuteTime": {
     "end_time": "2021-04-14T12:25:09.465124Z",
     "start_time": "2021-04-14T12:25:06.278630Z"
    }
   },
   "outputs": [],
   "source": [
    "# from bert import tokenization\n",
    "# from .hackaton import tokenization\n",
    "import tokenization"
   ]
  },
  {
   "cell_type": "code",
   "execution_count": 16,
   "id": "human-affiliation",
   "metadata": {
    "ExecuteTime": {
     "end_time": "2021-04-14T12:27:41.653804Z",
     "start_time": "2021-04-14T12:27:40.317710Z"
    }
   },
   "outputs": [
    {
     "name": "stderr",
     "output_type": "stream",
     "text": [
      "[nltk_data] Downloading package stopwords to\n",
      "[nltk_data]     C:\\Users\\Kirill_Sergeev\\AppData\\Roaming\\nltk_data...\n",
      "[nltk_data]   Package stopwords is already up-to-date!\n",
      "[nltk_data] Downloading package wordnet to\n",
      "[nltk_data]     C:\\Users\\Kirill_Sergeev\\AppData\\Roaming\\nltk_data...\n",
      "[nltk_data]   Package wordnet is already up-to-date!\n"
     ]
    }
   ],
   "source": [
    "import numpy as np\n",
    "import pandas as pd\n",
    "import matplotlib.pyplot as plt\n",
    "import seaborn as sns\n",
    "import os\n",
    "import tensorflow_addons as tfa\n",
    "import re\n",
    "import string\n",
    "import tqdm\n",
    "import nltk\n",
    "nltk.download('stopwords')\n",
    "nltk.download('wordnet')\n",
    "from wordcloud import WordCloud\n",
    "from nltk.corpus import stopwords\n",
    "from tqdm.notebook import tqdm\n",
    "import tensorflow as tf\n",
    "from tensorflow.keras.layers import Dense, Input\n",
    "from tensorflow.keras.optimizers import Adam\n",
    "from tensorflow.keras.models import Model\n",
    "from tensorflow.keras.callbacks import ModelCheckpoint\n",
    "import tensorflow_hub as hub\n",
    "from sklearn.model_selection import train_test_split\n",
    "from sklearn.preprocessing import LabelEncoder"
   ]
  },
  {
   "cell_type": "code",
   "execution_count": 17,
   "id": "interior-prairie",
   "metadata": {
    "ExecuteTime": {
     "end_time": "2021-04-14T12:27:41.980721Z",
     "start_time": "2021-04-14T12:27:41.968752Z"
    }
   },
   "outputs": [],
   "source": [
    "data_dir = 'dp-profi/data/'"
   ]
  },
  {
   "cell_type": "code",
   "execution_count": 18,
   "id": "central-antarctica",
   "metadata": {
    "ExecuteTime": {
     "end_time": "2021-04-14T12:27:42.354446Z",
     "start_time": "2021-04-14T12:27:42.334500Z"
    }
   },
   "outputs": [
    {
     "data": {
      "text/plain": [
       "['1.csv', '2.csv', 'deepy.csv', 'preparing_train.csv']"
      ]
     },
     "execution_count": 18,
     "metadata": {},
     "output_type": "execute_result"
    }
   ],
   "source": [
    "os.listdir(data_dir)"
   ]
  },
  {
   "cell_type": "code",
   "execution_count": 19,
   "id": "wound-outdoors",
   "metadata": {
    "ExecuteTime": {
     "end_time": "2021-04-14T12:27:42.806604Z",
     "start_time": "2021-04-14T12:27:42.790647Z"
    }
   },
   "outputs": [],
   "source": [
    "data = pd.read_csv(data_dir + 'preparing_train_with_context5.csv')"
   ]
  },
  {
   "cell_type": "code",
   "execution_count": 20,
   "id": "cardiac-subsection",
   "metadata": {
    "ExecuteTime": {
     "end_time": "2021-04-14T12:27:43.683627Z",
     "start_time": "2021-04-14T12:27:43.543890Z"
    }
   },
   "outputs": [
    {
     "data": {
      "text/plain": [
       "[<matplotlib.lines.Line2D at 0x2908a39e3d0>]"
      ]
     },
     "execution_count": 20,
     "metadata": {},
     "output_type": "execute_result"
    },
    {
     "data": {
      "image/png": "[encoded data removed]",
      "text/plain": [
       "<Figure size 432x288 with 1 Axes>"
      ]
     },
     "metadata": {
      "needs_background": "light"
     },
     "output_type": "display_data"
    }
   ],
   "source": [
    "plt.plot(sorted([len(i) for  i in data['message']]))"
   ]
  },
  {
   "cell_type": "code",
   "execution_count": 21,
   "id": "harmful-packet",
   "metadata": {
    "ExecuteTime": {
     "end_time": "2021-04-14T12:27:44.151863Z",
     "start_time": "2021-04-14T12:27:44.144882Z"
    }
   },
   "outputs": [],
   "source": [
    "data.drop('text_stemm', axis = 'columns', inplace = True)"
   ]
  },
  {
   "cell_type": "code",
   "execution_count": 22,
   "id": "traditional-photographer",
   "metadata": {
    "ExecuteTime": {
     "end_time": "2021-04-14T12:27:44.371245Z",
     "start_time": "2021-04-14T12:27:44.355289Z"
    }
   },
   "outputs": [
    {
     "data": {
      "text/html": [
       "<div>\n",
       "<style scoped>\n",
       "    .dataframe tbody tr th:only-of-type {\n",
       "        vertical-align: middle;\n",
       "    }\n",
       "\n",
       "    .dataframe tbody tr th {\n",
       "        vertical-align: top;\n",
       "    }\n",
       "\n",
       "    .dataframe thead th {\n",
       "        text-align: right;\n",
       "    }\n",
       "</style>\n",
       "<table border=\"1\" class=\"dataframe\">\n",
       "  <thead>\n",
       "    <tr style=\"text-align: right;\">\n",
       "      <th></th>\n",
       "      <th>utterance_id</th>\n",
       "      <th>conversation_id</th>\n",
       "      <th>agent</th>\n",
       "      <th>message</th>\n",
       "      <th>topic</th>\n",
       "      <th>text_clean</th>\n",
       "      <th>text_lemm</th>\n",
       "    </tr>\n",
       "  </thead>\n",
       "  <tbody>\n",
       "    <tr>\n",
       "      <th>0</th>\n",
       "      <td>0</td>\n",
       "      <td>0</td>\n",
       "      <td>agent_1</td>\n",
       "      <td>do you listen to albums?</td>\n",
       "      <td>Music</td>\n",
       "      <td>listen albums</td>\n",
       "      <td>listen album</td>\n",
       "    </tr>\n",
       "    <tr>\n",
       "      <th>1</th>\n",
       "      <td>1</td>\n",
       "      <td>0</td>\n",
       "      <td>agent_2</td>\n",
       "      <td>Yes I do. Have you listened to Hybrid Theory?</td>\n",
       "      <td>Music</td>\n",
       "      <td>yes listened hybrid theory</td>\n",
       "      <td>yes listen hybrid theory</td>\n",
       "    </tr>\n",
       "    <tr>\n",
       "      <th>2</th>\n",
       "      <td>2</td>\n",
       "      <td>0</td>\n",
       "      <td>agent_1</td>\n",
       "      <td>Yes it is the best selling album of the centur...</td>\n",
       "      <td>Music</td>\n",
       "      <td>yes best selling album century</td>\n",
       "      <td>yes good sell album century</td>\n",
       "    </tr>\n",
       "    <tr>\n",
       "      <th>3</th>\n",
       "      <td>3</td>\n",
       "      <td>0</td>\n",
       "      <td>agent_2</td>\n",
       "      <td>True. Do you know who Reel Big FIsh are?</td>\n",
       "      <td>Music</td>\n",
       "      <td>true know reel big fish</td>\n",
       "      <td>true know reel big fish</td>\n",
       "    </tr>\n",
       "    <tr>\n",
       "      <th>4</th>\n",
       "      <td>4</td>\n",
       "      <td>0</td>\n",
       "      <td>agent_1</td>\n",
       "      <td>Yes the band that lost the rights to their own...</td>\n",
       "      <td>Music</td>\n",
       "      <td>yes band lost rights music sad</td>\n",
       "      <td>yes band lose right music sad</td>\n",
       "    </tr>\n",
       "    <tr>\n",
       "      <th>...</th>\n",
       "      <td>...</td>\n",
       "      <td>...</td>\n",
       "      <td>...</td>\n",
       "      <td>...</td>\n",
       "      <td>...</td>\n",
       "      <td>...</td>\n",
       "      <td>...</td>\n",
       "    </tr>\n",
       "    <tr>\n",
       "      <th>516</th>\n",
       "      <td>516</td>\n",
       "      <td>22</td>\n",
       "      <td>agent_2</td>\n",
       "      <td>Yeah it sure is, the majority of it has been c...</td>\n",
       "      <td>Politics</td>\n",
       "      <td>yeah sure majority cleared really sad nevada g...</td>\n",
       "      <td>yeah sure majority clear really sad nevada gov...</td>\n",
       "    </tr>\n",
       "    <tr>\n",
       "      <th>517</th>\n",
       "      <td>517</td>\n",
       "      <td>22</td>\n",
       "      <td>agent_1</td>\n",
       "      <td>Did you know wikileaks actually published the ...</td>\n",
       "      <td>Politics</td>\n",
       "      <td>know wikileaks actually published government p...</td>\n",
       "      <td>know wikileak actually publish government plan...</td>\n",
       "    </tr>\n",
       "    <tr>\n",
       "      <th>518</th>\n",
       "      <td>518</td>\n",
       "      <td>22</td>\n",
       "      <td>agent_2</td>\n",
       "      <td>Haha they are just too good. On the other hand...</td>\n",
       "      <td>Politics</td>\n",
       "      <td>good hand seems government granting much power...</td>\n",
       "      <td>good hand seem government grant much power per...</td>\n",
       "    </tr>\n",
       "    <tr>\n",
       "      <th>519</th>\n",
       "      <td>519</td>\n",
       "      <td>22</td>\n",
       "      <td>agent_1</td>\n",
       "      <td>Something I can't wrap my brain around, is the...</td>\n",
       "      <td>Politics</td>\n",
       "      <td>something wrap brain around fact presidents gu...</td>\n",
       "      <td>something wrap brain around fact president gue...</td>\n",
       "    </tr>\n",
       "    <tr>\n",
       "      <th>520</th>\n",
       "      <td>520</td>\n",
       "      <td>22</td>\n",
       "      <td>agent_2</td>\n",
       "      <td>I am wondering if they maybe get a lot of gues...</td>\n",
       "      <td>Other</td>\n",
       "      <td>wondering maybe get lot guests sure though nic...</td>\n",
       "      <td>wonder maybe get lot guest sure though nice chat</td>\n",
       "    </tr>\n",
       "  </tbody>\n",
       "</table>\n",
       "<p>521 rows × 7 columns</p>\n",
       "</div>"
      ],
      "text/plain": [
       "     utterance_id  conversation_id    agent  \\\n",
       "0               0                0  agent_1   \n",
       "1               1                0  agent_2   \n",
       "2               2                0  agent_1   \n",
       "3               3                0  agent_2   \n",
       "4               4                0  agent_1   \n",
       "..            ...              ...      ...   \n",
       "516           516               22  agent_2   \n",
       "517           517               22  agent_1   \n",
       "518           518               22  agent_2   \n",
       "519           519               22  agent_1   \n",
       "520           520               22  agent_2   \n",
       "\n",
       "                                               message     topic  \\\n",
       "0                             do you listen to albums?     Music   \n",
       "1        Yes I do. Have you listened to Hybrid Theory?     Music   \n",
       "2    Yes it is the best selling album of the centur...     Music   \n",
       "3             True. Do you know who Reel Big FIsh are?     Music   \n",
       "4    Yes the band that lost the rights to their own...     Music   \n",
       "..                                                 ...       ...   \n",
       "516  Yeah it sure is, the majority of it has been c...  Politics   \n",
       "517  Did you know wikileaks actually published the ...  Politics   \n",
       "518  Haha they are just too good. On the other hand...  Politics   \n",
       "519  Something I can't wrap my brain around, is the...  Politics   \n",
       "520  I am wondering if they maybe get a lot of gues...     Other   \n",
       "\n",
       "                                            text_clean  \\\n",
       "0                                        listen albums   \n",
       "1                           yes listened hybrid theory   \n",
       "2                       yes best selling album century   \n",
       "3                              true know reel big fish   \n",
       "4                       yes band lost rights music sad   \n",
       "..                                                 ...   \n",
       "516  yeah sure majority cleared really sad nevada g...   \n",
       "517  know wikileaks actually published government p...   \n",
       "518  good hand seems government granting much power...   \n",
       "519  something wrap brain around fact presidents gu...   \n",
       "520  wondering maybe get lot guests sure though nic...   \n",
       "\n",
       "                                             text_lemm  \n",
       "0                                         listen album  \n",
       "1                             yes listen hybrid theory  \n",
       "2                          yes good sell album century  \n",
       "3                              true know reel big fish  \n",
       "4                        yes band lose right music sad  \n",
       "..                                                 ...  \n",
       "516  yeah sure majority clear really sad nevada gov...  \n",
       "517  know wikileak actually publish government plan...  \n",
       "518  good hand seem government grant much power per...  \n",
       "519  something wrap brain around fact president gue...  \n",
       "520   wonder maybe get lot guest sure though nice chat  \n",
       "\n",
       "[521 rows x 7 columns]"
      ]
     },
     "execution_count": 22,
     "metadata": {},
     "output_type": "execute_result"
    }
   ],
   "source": [
    "data"
   ]
  },
  {
   "cell_type": "code",
   "execution_count": 23,
   "id": "based-tribune",
   "metadata": {
    "ExecuteTime": {
     "end_time": "2021-04-14T12:27:44.869062Z",
     "start_time": "2021-04-14T12:27:44.837471Z"
    }
   },
   "outputs": [],
   "source": [
    "data.dropna(inplace = True)"
   ]
  },
  {
   "cell_type": "code",
   "execution_count": 24,
   "id": "another-rings",
   "metadata": {
    "ExecuteTime": {
     "end_time": "2021-04-14T12:27:45.277962Z",
     "start_time": "2021-04-14T12:27:45.267963Z"
    }
   },
   "outputs": [],
   "source": [
    "data.reset_index(drop = True, inplace = True)"
   ]
  },
  {
   "cell_type": "code",
   "execution_count": 25,
   "id": "alleged-royalty",
   "metadata": {
    "ExecuteTime": {
     "end_time": "2021-04-14T12:27:46.068690Z",
     "start_time": "2021-04-14T12:27:46.061709Z"
    }
   },
   "outputs": [],
   "source": [
    "target = data['message']\n",
    "train = data.drop('topic', axis = 'columns')"
   ]
  },
  {
   "cell_type": "code",
   "execution_count": 26,
   "id": "union-springer",
   "metadata": {
    "ExecuteTime": {
     "end_time": "2021-04-14T12:27:46.524107Z",
     "start_time": "2021-04-14T12:27:46.514133Z"
    }
   },
   "outputs": [],
   "source": [
    "def bert_encode(texts, tokenizer, max_len=160):\n",
    "    all_tokens, all_masks, all_segments = [], [], []\n",
    "    \n",
    "    for text in tqdm(texts):\n",
    "        # Tokenize the current text\n",
    "        text = tokenizer.tokenize(text)\n",
    "        # Select text only till \n",
    "        text = text[:max_len-2]\n",
    "        input_sequence = [\"[CLS]\"] + text + [\"[SEP]\"]\n",
    "        pad_len = max_len - len(input_sequence)\n",
    "        \n",
    "        tokens = tokenizer.convert_tokens_to_ids(input_sequence)\n",
    "        tokens += [0] * pad_len\n",
    "        pad_masks = [1] * len(input_sequence) + [0] * pad_len\n",
    "        segment_ids = [0] * max_len\n",
    "        \n",
    "        all_tokens.append(tokens)\n",
    "        all_masks.append(pad_masks)\n",
    "        all_segments.append(segment_ids)\n",
    "    \n",
    "    return np.array(all_tokens), np.array(all_masks), np.array(all_segments)"
   ]
  },
  {
   "cell_type": "code",
   "execution_count": 27,
   "id": "electrical-scale",
   "metadata": {
    "ExecuteTime": {
     "end_time": "2021-04-14T12:28:23.329863Z",
     "start_time": "2021-04-14T12:27:47.041963Z"
    }
   },
   "outputs": [
    {
     "name": "stdout",
     "output_type": "stream",
     "text": [
      "Wall time: 36.3 s\n"
     ]
    }
   ],
   "source": [
    "%%time\n",
    "url = \"https://tfhub.dev/tensorflow/bert_en_uncased_L-24_H-1024_A-16/1\"\n",
    "bert_layer = hub.KerasLayer(url, trainable=True)"
   ]
  },
  {
   "cell_type": "code",
   "execution_count": 28,
   "id": "located-display",
   "metadata": {
    "ExecuteTime": {
     "end_time": "2021-04-14T12:28:24.991310Z",
     "start_time": "2021-04-14T12:28:24.896007Z"
    }
   },
   "outputs": [],
   "source": [
    "vocab_fl = bert_layer.resolved_object.vocab_file.asset_path.numpy()\n",
    "lower_case = bert_layer.resolved_object.do_lower_case.numpy()\n",
    "tokenizer = tokenization.FullTokenizer(vocab_fl, lower_case)"
   ]
  },
  {
   "cell_type": "code",
   "execution_count": 29,
   "id": "nearby-treasure",
   "metadata": {
    "ExecuteTime": {
     "end_time": "2021-04-14T12:28:25.999375Z",
     "start_time": "2021-04-14T12:28:25.979432Z"
    }
   },
   "outputs": [],
   "source": [
    "classes = data.topic.unique().tolist()\n",
    "\n",
    "data['target'] = data.topic.map(lambda x: classes.index(x))"
   ]
  },
  {
   "cell_type": "code",
   "execution_count": 30,
   "id": "outstanding-measure",
   "metadata": {
    "ExecuteTime": {
     "end_time": "2021-04-14T12:28:26.483950Z",
     "start_time": "2021-04-14T12:28:26.470985Z"
    }
   },
   "outputs": [],
   "source": [
    "def encode_target(t_class):\n",
    "    t_class=str(t_class)\n",
    "    return class_dict[t_class]"
   ]
  },
  {
   "cell_type": "code",
   "execution_count": 31,
   "id": "realistic-asbestos",
   "metadata": {
    "ExecuteTime": {
     "end_time": "2021-04-14T12:28:26.845653Z",
     "start_time": "2021-04-14T12:28:26.831690Z"
    }
   },
   "outputs": [],
   "source": [
    "n_classes = len(data['target'].value_counts())"
   ]
  },
  {
   "cell_type": "code",
   "execution_count": 40,
   "id": "underlying-recognition",
   "metadata": {
    "ExecuteTime": {
     "end_time": "2021-04-14T12:56:43.547488Z",
     "start_time": "2021-04-14T12:56:43.539509Z"
    }
   },
   "outputs": [],
   "source": [
    "max_len = 200"
   ]
  },
  {
   "cell_type": "code",
   "execution_count": 41,
   "id": "breeding-strap",
   "metadata": {
    "ExecuteTime": {
     "end_time": "2021-04-14T12:56:44.188772Z",
     "start_time": "2021-04-14T12:56:43.970363Z"
    }
   },
   "outputs": [
    {
     "data": {
      "application/vnd.jupyter.widget-view+json": {
       "model_id": "ac9e71bd5e2b4a85b78db791cdb106a9",
       "version_major": 2,
       "version_minor": 0
      },
      "text/plain": [
       "HBox(children=(HTML(value=''), FloatProgress(value=0.0, max=517.0), HTML(value='')))"
      ]
     },
     "metadata": {},
     "output_type": "display_data"
    },
    {
     "name": "stdout",
     "output_type": "stream",
     "text": [
      "\n"
     ]
    }
   ],
   "source": [
    "train_input = bert_encode(data['text_lemm'].values, tokenizer, max_len=max_len)\n",
    "train_labels = data['target'].values"
   ]
  },
  {
   "cell_type": "code",
   "execution_count": 42,
   "id": "attractive-guess",
   "metadata": {
    "ExecuteTime": {
     "end_time": "2021-04-14T12:56:44.673517Z",
     "start_time": "2021-04-14T12:56:44.659565Z"
    }
   },
   "outputs": [],
   "source": [
    "def build_model(transformer, max_len=max_len):\n",
    "\n",
    "    input_word_ids = Input(shape=(max_len,), dtype=tf.int32, name='input_word_ids')\n",
    "    input_mask = Input(shape=(max_len,), dtype=tf.int32, name='input_mask')\n",
    "    segment_ids = Input(shape=(max_len,), dtype=tf.int32, name='segment_ids')\n",
    "    # Get the sequence output\n",
    "    _, seq_op = transformer([input_word_ids, input_mask, segment_ids])\n",
    "    # Get the respective class token from that sequence output\n",
    "    class_tkn = seq_op[:, 0, :]\n",
    "    # Final Neuron (for Classification)\n",
    "    op = Dense(20, activation='softmax')(class_tkn)\n",
    "    # Bind the inputs and outputs together into a Model\n",
    "    model = Model(inputs=[input_word_ids, input_mask, segment_ids], outputs=op)\n",
    "    \n",
    "    model.compile(optimizer=Adam(1e-4), loss='sparse_categorical_crossentropy', \n",
    "                  metrics=['accuracy'])\n",
    "    \n",
    "    return model"
   ]
  },
  {
   "cell_type": "code",
   "execution_count": 43,
   "id": "refined-emergency",
   "metadata": {
    "ExecuteTime": {
     "end_time": "2021-04-14T12:56:46.017452Z",
     "start_time": "2021-04-14T12:56:45.285419Z"
    }
   },
   "outputs": [],
   "source": [
    "model = build_model(bert_layer, max_len=max_len)"
   ]
  },
  {
   "cell_type": "code",
   "execution_count": 44,
   "id": "strategic-complex",
   "metadata": {
    "ExecuteTime": {
     "end_time": "2021-04-14T13:28:52.843997Z",
     "start_time": "2021-04-14T12:56:48.481466Z"
    }
   },
   "outputs": [
    {
     "name": "stdout",
     "output_type": "stream",
     "text": [
      "Epoch 1/10\n",
      "22/22 [==============================] - 928s 42s/step - loss: 1.4170 - accuracy: 0.6501 - val_loss: 2.3525 - val_accuracy: 0.5029\n",
      "Epoch 2/10\n",
      "22/22 [==============================] - 919s 42s/step - loss: 1.3196 - accuracy: 0.6038 - val_loss: 3.0442 - val_accuracy: 0.2222\n",
      "Epoch 3/10\n",
      " 1/22 [>.............................] - ETA: 13:04 - loss: 2.9899 - accuracy: 0.1875"
     ]
    },
    {
     "ename": "KeyboardInterrupt",
     "evalue": "",
     "output_type": "error",
     "traceback": [
      "\u001b[1;31m---------------------------------------------------------------------------\u001b[0m",
      "\u001b[1;31mKeyboardInterrupt\u001b[0m                         Traceback (most recent call last)",
      "\u001b[1;32m<ipython-input-44-e89f94b2beaa>\u001b[0m in \u001b[0;36m<module>\u001b[1;34m\u001b[0m\n\u001b[0;32m      2\u001b[0m \u001b[1;33m\u001b[0m\u001b[0m\n\u001b[0;32m      3\u001b[0m \u001b[1;33m\u001b[0m\u001b[0m\n\u001b[1;32m----> 4\u001b[1;33m train_history = model.fit(\n\u001b[0m\u001b[0;32m      5\u001b[0m     \u001b[0mtrain_input\u001b[0m\u001b[1;33m,\u001b[0m \u001b[0mtrain_labels\u001b[0m\u001b[1;33m,\u001b[0m\u001b[1;33m\u001b[0m\u001b[1;33m\u001b[0m\u001b[0m\n\u001b[0;32m      6\u001b[0m     \u001b[0mvalidation_split\u001b[0m\u001b[1;33m=\u001b[0m\u001b[1;36m0.33\u001b[0m\u001b[1;33m,\u001b[0m\u001b[1;33m\u001b[0m\u001b[1;33m\u001b[0m\u001b[0m\n",
      "\u001b[1;32m~\\anaconda3\\lib\\site-packages\\tensorflow\\python\\keras\\engine\\training.py\u001b[0m in \u001b[0;36mfit\u001b[1;34m(self, x, y, batch_size, epochs, verbose, callbacks, validation_split, validation_data, shuffle, class_weight, sample_weight, initial_epoch, steps_per_epoch, validation_steps, validation_batch_size, validation_freq, max_queue_size, workers, use_multiprocessing)\u001b[0m\n\u001b[0;32m   1098\u001b[0m                 _r=1):\n\u001b[0;32m   1099\u001b[0m               \u001b[0mcallbacks\u001b[0m\u001b[1;33m.\u001b[0m\u001b[0mon_train_batch_begin\u001b[0m\u001b[1;33m(\u001b[0m\u001b[0mstep\u001b[0m\u001b[1;33m)\u001b[0m\u001b[1;33m\u001b[0m\u001b[1;33m\u001b[0m\u001b[0m\n\u001b[1;32m-> 1100\u001b[1;33m               \u001b[0mtmp_logs\u001b[0m \u001b[1;33m=\u001b[0m \u001b[0mself\u001b[0m\u001b[1;33m.\u001b[0m\u001b[0mtrain_function\u001b[0m\u001b[1;33m(\u001b[0m\u001b[0miterator\u001b[0m\u001b[1;33m)\u001b[0m\u001b[1;33m\u001b[0m\u001b[1;33m\u001b[0m\u001b[0m\n\u001b[0m\u001b[0;32m   1101\u001b[0m               \u001b[1;32mif\u001b[0m \u001b[0mdata_handler\u001b[0m\u001b[1;33m.\u001b[0m\u001b[0mshould_sync\u001b[0m\u001b[1;33m:\u001b[0m\u001b[1;33m\u001b[0m\u001b[1;33m\u001b[0m\u001b[0m\n\u001b[0;32m   1102\u001b[0m                 \u001b[0mcontext\u001b[0m\u001b[1;33m.\u001b[0m\u001b[0masync_wait\u001b[0m\u001b[1;33m(\u001b[0m\u001b[1;33m)\u001b[0m\u001b[1;33m\u001b[0m\u001b[1;33m\u001b[0m\u001b[0m\n",
      "\u001b[1;32m~\\anaconda3\\lib\\site-packages\\tensorflow\\python\\eager\\def_function.py\u001b[0m in \u001b[0;36m__call__\u001b[1;34m(self, *args, **kwds)\u001b[0m\n\u001b[0;32m    826\u001b[0m     \u001b[0mtracing_count\u001b[0m \u001b[1;33m=\u001b[0m \u001b[0mself\u001b[0m\u001b[1;33m.\u001b[0m\u001b[0mexperimental_get_tracing_count\u001b[0m\u001b[1;33m(\u001b[0m\u001b[1;33m)\u001b[0m\u001b[1;33m\u001b[0m\u001b[1;33m\u001b[0m\u001b[0m\n\u001b[0;32m    827\u001b[0m     \u001b[1;32mwith\u001b[0m \u001b[0mtrace\u001b[0m\u001b[1;33m.\u001b[0m\u001b[0mTrace\u001b[0m\u001b[1;33m(\u001b[0m\u001b[0mself\u001b[0m\u001b[1;33m.\u001b[0m\u001b[0m_name\u001b[0m\u001b[1;33m)\u001b[0m \u001b[1;32mas\u001b[0m \u001b[0mtm\u001b[0m\u001b[1;33m:\u001b[0m\u001b[1;33m\u001b[0m\u001b[1;33m\u001b[0m\u001b[0m\n\u001b[1;32m--> 828\u001b[1;33m       \u001b[0mresult\u001b[0m \u001b[1;33m=\u001b[0m \u001b[0mself\u001b[0m\u001b[1;33m.\u001b[0m\u001b[0m_call\u001b[0m\u001b[1;33m(\u001b[0m\u001b[1;33m*\u001b[0m\u001b[0margs\u001b[0m\u001b[1;33m,\u001b[0m \u001b[1;33m**\u001b[0m\u001b[0mkwds\u001b[0m\u001b[1;33m)\u001b[0m\u001b[1;33m\u001b[0m\u001b[1;33m\u001b[0m\u001b[0m\n\u001b[0m\u001b[0;32m    829\u001b[0m       \u001b[0mcompiler\u001b[0m \u001b[1;33m=\u001b[0m \u001b[1;34m\"xla\"\u001b[0m \u001b[1;32mif\u001b[0m \u001b[0mself\u001b[0m\u001b[1;33m.\u001b[0m\u001b[0m_experimental_compile\u001b[0m \u001b[1;32melse\u001b[0m \u001b[1;34m\"nonXla\"\u001b[0m\u001b[1;33m\u001b[0m\u001b[1;33m\u001b[0m\u001b[0m\n\u001b[0;32m    830\u001b[0m       \u001b[0mnew_tracing_count\u001b[0m \u001b[1;33m=\u001b[0m \u001b[0mself\u001b[0m\u001b[1;33m.\u001b[0m\u001b[0mexperimental_get_tracing_count\u001b[0m\u001b[1;33m(\u001b[0m\u001b[1;33m)\u001b[0m\u001b[1;33m\u001b[0m\u001b[1;33m\u001b[0m\u001b[0m\n",
      "\u001b[1;32m~\\anaconda3\\lib\\site-packages\\tensorflow\\python\\eager\\def_function.py\u001b[0m in \u001b[0;36m_call\u001b[1;34m(self, *args, **kwds)\u001b[0m\n\u001b[0;32m    853\u001b[0m       \u001b[1;31m# In this case we have created variables on the first call, so we run the\u001b[0m\u001b[1;33m\u001b[0m\u001b[1;33m\u001b[0m\u001b[1;33m\u001b[0m\u001b[0m\n\u001b[0;32m    854\u001b[0m       \u001b[1;31m# defunned version which is guaranteed to never create variables.\u001b[0m\u001b[1;33m\u001b[0m\u001b[1;33m\u001b[0m\u001b[1;33m\u001b[0m\u001b[0m\n\u001b[1;32m--> 855\u001b[1;33m       \u001b[1;32mreturn\u001b[0m \u001b[0mself\u001b[0m\u001b[1;33m.\u001b[0m\u001b[0m_stateless_fn\u001b[0m\u001b[1;33m(\u001b[0m\u001b[1;33m*\u001b[0m\u001b[0margs\u001b[0m\u001b[1;33m,\u001b[0m \u001b[1;33m**\u001b[0m\u001b[0mkwds\u001b[0m\u001b[1;33m)\u001b[0m  \u001b[1;31m# pylint: disable=not-callable\u001b[0m\u001b[1;33m\u001b[0m\u001b[1;33m\u001b[0m\u001b[0m\n\u001b[0m\u001b[0;32m    856\u001b[0m     \u001b[1;32melif\u001b[0m \u001b[0mself\u001b[0m\u001b[1;33m.\u001b[0m\u001b[0m_stateful_fn\u001b[0m \u001b[1;32mis\u001b[0m \u001b[1;32mnot\u001b[0m \u001b[1;32mNone\u001b[0m\u001b[1;33m:\u001b[0m\u001b[1;33m\u001b[0m\u001b[1;33m\u001b[0m\u001b[0m\n\u001b[0;32m    857\u001b[0m       \u001b[1;31m# Release the lock early so that multiple threads can perform the call\u001b[0m\u001b[1;33m\u001b[0m\u001b[1;33m\u001b[0m\u001b[1;33m\u001b[0m\u001b[0m\n",
      "\u001b[1;32m~\\anaconda3\\lib\\site-packages\\tensorflow\\python\\eager\\function.py\u001b[0m in \u001b[0;36m__call__\u001b[1;34m(self, *args, **kwargs)\u001b[0m\n\u001b[0;32m   2940\u001b[0m       (graph_function,\n\u001b[0;32m   2941\u001b[0m        filtered_flat_args) = self._maybe_define_function(args, kwargs)\n\u001b[1;32m-> 2942\u001b[1;33m     return graph_function._call_flat(\n\u001b[0m\u001b[0;32m   2943\u001b[0m         filtered_flat_args, captured_inputs=graph_function.captured_inputs)  # pylint: disable=protected-access\n\u001b[0;32m   2944\u001b[0m \u001b[1;33m\u001b[0m\u001b[0m\n",
      "\u001b[1;32m~\\anaconda3\\lib\\site-packages\\tensorflow\\python\\eager\\function.py\u001b[0m in \u001b[0;36m_call_flat\u001b[1;34m(self, args, captured_inputs, cancellation_manager)\u001b[0m\n\u001b[0;32m   1916\u001b[0m         and executing_eagerly):\n\u001b[0;32m   1917\u001b[0m       \u001b[1;31m# No tape is watching; skip to running the function.\u001b[0m\u001b[1;33m\u001b[0m\u001b[1;33m\u001b[0m\u001b[1;33m\u001b[0m\u001b[0m\n\u001b[1;32m-> 1918\u001b[1;33m       return self._build_call_outputs(self._inference_function.call(\n\u001b[0m\u001b[0;32m   1919\u001b[0m           ctx, args, cancellation_manager=cancellation_manager))\n\u001b[0;32m   1920\u001b[0m     forward_backward = self._select_forward_and_backward_functions(\n",
      "\u001b[1;32m~\\anaconda3\\lib\\site-packages\\tensorflow\\python\\eager\\function.py\u001b[0m in \u001b[0;36mcall\u001b[1;34m(self, ctx, args, cancellation_manager)\u001b[0m\n\u001b[0;32m    553\u001b[0m       \u001b[1;32mwith\u001b[0m \u001b[0m_InterpolateFunctionError\u001b[0m\u001b[1;33m(\u001b[0m\u001b[0mself\u001b[0m\u001b[1;33m)\u001b[0m\u001b[1;33m:\u001b[0m\u001b[1;33m\u001b[0m\u001b[1;33m\u001b[0m\u001b[0m\n\u001b[0;32m    554\u001b[0m         \u001b[1;32mif\u001b[0m \u001b[0mcancellation_manager\u001b[0m \u001b[1;32mis\u001b[0m \u001b[1;32mNone\u001b[0m\u001b[1;33m:\u001b[0m\u001b[1;33m\u001b[0m\u001b[1;33m\u001b[0m\u001b[0m\n\u001b[1;32m--> 555\u001b[1;33m           outputs = execute.execute(\n\u001b[0m\u001b[0;32m    556\u001b[0m               \u001b[0mstr\u001b[0m\u001b[1;33m(\u001b[0m\u001b[0mself\u001b[0m\u001b[1;33m.\u001b[0m\u001b[0msignature\u001b[0m\u001b[1;33m.\u001b[0m\u001b[0mname\u001b[0m\u001b[1;33m)\u001b[0m\u001b[1;33m,\u001b[0m\u001b[1;33m\u001b[0m\u001b[1;33m\u001b[0m\u001b[0m\n\u001b[0;32m    557\u001b[0m               \u001b[0mnum_outputs\u001b[0m\u001b[1;33m=\u001b[0m\u001b[0mself\u001b[0m\u001b[1;33m.\u001b[0m\u001b[0m_num_outputs\u001b[0m\u001b[1;33m,\u001b[0m\u001b[1;33m\u001b[0m\u001b[1;33m\u001b[0m\u001b[0m\n",
      "\u001b[1;32m~\\anaconda3\\lib\\site-packages\\tensorflow\\python\\eager\\execute.py\u001b[0m in \u001b[0;36mquick_execute\u001b[1;34m(op_name, num_outputs, inputs, attrs, ctx, name)\u001b[0m\n\u001b[0;32m     57\u001b[0m   \u001b[1;32mtry\u001b[0m\u001b[1;33m:\u001b[0m\u001b[1;33m\u001b[0m\u001b[1;33m\u001b[0m\u001b[0m\n\u001b[0;32m     58\u001b[0m     \u001b[0mctx\u001b[0m\u001b[1;33m.\u001b[0m\u001b[0mensure_initialized\u001b[0m\u001b[1;33m(\u001b[0m\u001b[1;33m)\u001b[0m\u001b[1;33m\u001b[0m\u001b[1;33m\u001b[0m\u001b[0m\n\u001b[1;32m---> 59\u001b[1;33m     tensors = pywrap_tfe.TFE_Py_Execute(ctx._handle, device_name, op_name,\n\u001b[0m\u001b[0;32m     60\u001b[0m                                         inputs, attrs, num_outputs)\n\u001b[0;32m     61\u001b[0m   \u001b[1;32mexcept\u001b[0m \u001b[0mcore\u001b[0m\u001b[1;33m.\u001b[0m\u001b[0m_NotOkStatusException\u001b[0m \u001b[1;32mas\u001b[0m \u001b[0me\u001b[0m\u001b[1;33m:\u001b[0m\u001b[1;33m\u001b[0m\u001b[1;33m\u001b[0m\u001b[0m\n",
      "\u001b[1;31mKeyboardInterrupt\u001b[0m: "
     ]
    }
   ],
   "source": [
    "checkpoint = ModelCheckpoint('model_f1.h5', monitor='val_accuracy', save_best_only=True)\n",
    "\n",
    "\n",
    "train_history = model.fit(\n",
    "    train_input, train_labels,\n",
    "    validation_split=0.33,\n",
    "    epochs=10,\n",
    "    shuffle=True,\n",
    "    callbacks=[checkpoint],\n",
    "    batch_size=16)"
   ]
  },
  {
   "cell_type": "code",
   "execution_count": null,
   "id": "chronic-theology",
   "metadata": {},
   "outputs": [],
   "source": []
  }
 ],
 "metadata": {
  "kernelspec": {
   "display_name": "Python 3",
   "language": "python",
   "name": "python3"
  },
  "language_info": {
   "codemirror_mode": {
    "name": "ipython",
    "version": 3
   },
   "file_extension": ".py",
   "mimetype": "text/x-python",
   "name": "python",
   "nbconvert_exporter": "python",
   "pygments_lexer": "ipython3",
   "version": "3.8.5"
  },
  "varInspector": {
   "cols": {
    "lenName": 16,
    "lenType": 16,
    "lenVar": 40
   },
   "kernels_config": {
    "python": {
     "delete_cmd_postfix": "",
     "delete_cmd_prefix": "del ",
     "library": "var_list.py",
     "varRefreshCmd": "print(var_dic_list())"
    },
    "r": {
     "delete_cmd_postfix": ") ",
     "delete_cmd_prefix": "rm(",
     "library": "var_list.r",
     "varRefreshCmd": "cat(var_dic_list()) "
    }
   },
   "types_to_exclude": [
    "module",
    "function",
    "builtin_function_or_method",
    "instance",
    "_Feature"
   ],
   "window_display": false
  }
 },
 "nbformat": 4,
 "nbformat_minor": 5
}
