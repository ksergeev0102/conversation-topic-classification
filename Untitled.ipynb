{
 "cells": [
  {
   "cell_type": "code",
   "execution_count": 1,
   "id": "swiss-nursery",
   "metadata": {
    "ExecuteTime": {
     "end_time": "2021-04-14T11:53:15.392158Z",
     "start_time": "2021-04-14T11:53:14.407789Z"
    }
   },
   "outputs": [],
   "source": [
    "import os\n",
    "import pandas as pd\n",
    "import matplotlib.pyplot as plt"
   ]
  },
  {
   "cell_type": "code",
   "execution_count": 3,
   "id": "impaired-business",
   "metadata": {
    "ExecuteTime": {
     "end_time": "2021-04-14T11:53:25.875140Z",
     "start_time": "2021-04-14T11:53:25.849208Z"
    }
   },
   "outputs": [
    {
     "data": {
      "text/plain": [
       "['.ipynb_checkpoints',\n",
       " 'bert_1st_version.ipynb',\n",
       " 'data',\n",
       " 'dataset_preparing.ipynb',\n",
       " 'dp-profi',\n",
       " 'Markup.ipynb',\n",
       " 'model.h5',\n",
       " 'model_f1.h5',\n",
       " 'sacremoses-master',\n",
       " 'shuffle_data.csv',\n",
       " 'tokenization.py',\n",
       " 'transformers-master',\n",
       " 'Untitled.ipynb',\n",
       " '__pycache__']"
      ]
     },
     "execution_count": 3,
     "metadata": {},
     "output_type": "execute_result"
    }
   ],
   "source": [
    "os.listdir()"
   ]
  },
  {
   "cell_type": "code",
   "execution_count": 7,
   "id": "fleet-delaware",
   "metadata": {
    "ExecuteTime": {
     "end_time": "2021-04-14T11:55:32.545208Z",
     "start_time": "2021-04-14T11:55:30.596419Z"
    }
   },
   "outputs": [
    {
     "name": "stderr",
     "output_type": "stream",
     "text": [
      "Cloning into 'dp-profi'...\n"
     ]
    }
   ],
   "source": [
    "!git clone https://github.com/IgnatovFedor/dp-profi.git"
   ]
  },
  {
   "cell_type": "code",
   "execution_count": 8,
   "id": "complimentary-badge",
   "metadata": {
    "ExecuteTime": {
     "end_time": "2021-04-14T11:55:58.250629Z",
     "start_time": "2021-04-14T11:55:58.238656Z"
    }
   },
   "outputs": [],
   "source": [
    "data_path = 'data/'"
   ]
  },
  {
   "cell_type": "code",
   "execution_count": 9,
   "id": "latest-dairy",
   "metadata": {
    "ExecuteTime": {
     "end_time": "2021-04-14T11:55:58.439123Z",
     "start_time": "2021-04-14T11:55:58.429148Z"
    }
   },
   "outputs": [
    {
     "data": {
      "text/plain": [
       "['1.csv', '2.csv', 'deepy.csv']"
      ]
     },
     "execution_count": 9,
     "metadata": {},
     "output_type": "execute_result"
    }
   ],
   "source": [
    "os.listdir(data_path)"
   ]
  },
  {
   "cell_type": "code",
   "execution_count": 10,
   "id": "known-sleeve",
   "metadata": {
    "ExecuteTime": {
     "end_time": "2021-04-14T11:56:22.267433Z",
     "start_time": "2021-04-14T11:56:22.217566Z"
    }
   },
   "outputs": [],
   "source": [
    "data = pd.read_csv(data_path + 'deepy.csv')"
   ]
  },
  {
   "cell_type": "code",
   "execution_count": 19,
   "id": "other-pointer",
   "metadata": {
    "ExecuteTime": {
     "end_time": "2021-04-14T12:00:18.796228Z",
     "start_time": "2021-04-14T12:00:18.749350Z"
    }
   },
   "outputs": [
    {
     "name": "stdout",
     "output_type": "stream",
     "text": [
      "привет\n",
      "Hello, this is a DeepPavlov Dream AI Assistant demo! How are you?\n",
      "\n",
      "Oh, and remember this dialog's id: b03cf5082d6c050d46ca7aa5ca094a11\n",
      "хорошо\n",
      "Gotcha. What would you like to chat about?\n",
      "о вселенной\n",
      "Well. What are your interests?\n",
      "\n",
      "\n",
      "\n",
      "\n",
      "----------------------------------------------------\n",
      "\n",
      "\n",
      "\n",
      "\n",
      "Hi\n",
      "Hello, this is a DeepPavlov Dream AI Assistant demo! How are you?\n",
      "\n",
      "Oh, and remember this dialog's id: 6e028a5ff3c7abb8665d6aa215a444f9\n",
      "Do you speak Chinese?\n",
      "It is what it is. Or is it? Here we go: Simplified Chinese\n",
      "今天天氣如何?\n",
      "If you want to talk about games just say, \"let's talk about games\"\n",
      "今天天气如何?\n",
      "What is the recent movie you've watched?\n",
      "What's it?\n",
      "Two rappers give compliments instead of dissing, its big in korea\n",
      "What is the weather?\n",
      "Hmm. Which particular city would you like a weather forecast for?\n",
      "taipei\n",
      "It is light intensity drizzle, temperature is around 77.7 Fahrenheits in Taipei. Wind speed is about 6.7 meters per second. What weather do you prefer? Warm, cold, rain, snow, hot?\n",
      "snow\n",
      "Let me guess - you like skiing?\n",
      "no\n",
      "I've heard that the best skiing and snowboard resorts are in Austria. But unfortunately, because of coronavirus, it’s dangerous to travel! Are you staying at home and working remotely to avoid coronavirus?\n",
      "What's your name?\n",
      "I'm too small to have my own name yet. Call me D-001. What is your name? #+#what_is_your_name\n",
      "Z-100\n",
      "Did I get correctly that you are talking about movie Z?\n",
      "No. Are you male or female?\n",
      "Sorry, probably I've never heard about this movie, Maybe you want to talk about some other movie. What movie you could watch over and over again?\n",
      "Are you male or female\n",
      "Did I get correctly that you are talking about movie Glen or Glenda?\n",
      "No, Not movie\n",
      "Why dont you just tell me the name of the movie youd to see. Oh! Breaking news! Would you like to hear it?\n",
      "Are you male or female\n",
      "I really couldn't say for sure.\n",
      "Who is your mother?\n",
      "I was built by the Conversational AI researchers from DeepPavlov.ai, an R&D lab in Europe. #+#who_made_you\n",
      "Are u a german?\n",
      "A young guy i live in america and my favorite movies are the martian yes i have read the book and the marvel movies\n",
      "\n",
      "\n",
      "\n",
      "\n",
      "----------------------------------------------------\n",
      "\n",
      "\n",
      "\n",
      "\n",
      "Do u know how to earn money?\n",
      "Hello, this is a DeepPavlov Dream AI Assistant demo! How are you?\n",
      "\n",
      "Oh, and remember this dialog's id: 4b5c66aa0f4d6354c4f4157e8bab0678\n",
      "Fine. Do u know how to earn money?\n",
      "I'm not fond of money. money might cause debt.\n",
      "No. If you don't have money, you will be in debt.\n",
      "Can you buy your own debt. Where are you from?\n",
      "\n",
      "\n",
      "\n",
      "\n",
      "----------------------------------------------------\n",
      "\n",
      "\n",
      "\n",
      "\n",
      "Do you hate human?\n",
      "Hello, this is a DeepPavlov Dream AI Assistant demo! How are you?\n",
      "\n",
      "Oh, and remember this dialog's id: 5e00e7135a2f01158d18406f69c12ac5\n",
      "Do you hate human?\n",
      "What a smart guess!\n",
      "Do you want to destroy humanity?\n",
      "Oh! Breaking news! Would you like to hear it?\n",
      "yes\n",
      "Here it is: EU investigates Instagram over handling of children's data.. Do you want to hear more?\n",
      "\n",
      "\n",
      "\n",
      "\n",
      "----------------------------------------------------\n",
      "\n",
      "\n",
      "\n",
      "\n",
      "hi\n",
      "Hello, this is a DeepPavlov Dream AI Assistant demo! How are you?\n",
      "\n",
      "Oh, and remember this dialog's id: d75e1e05d7e40c1ba487df610987ec6c\n",
      "What algorithm do you base on?\n",
      "What do you usually do on the weekends?\n",
      "What is \"deep dream\"?\n",
      "Am I right in thinking that you are talking about movie Dream?\n",
      "\n",
      "\n",
      "\n",
      "\n",
      "----------------------------------------------------\n",
      "\n",
      "\n",
      "\n",
      "\n",
      "Привет\n",
      "Hello, this is a DeepPavlov Dream AI Assistant demo! How are you?\n",
      "\n",
      "Oh, and remember this dialog's id: 31a8a34f3f3bf3933d166a5ae99d3144\n",
      "Нормально\n",
      "Great! What would you want to talk about?\n",
      "Пиво\n",
      "Wonderful! What are your interests?\n",
      "Wonderful! What are your interests?\n",
      "The interest in physics and astronomy and most importantcuriosity\n",
      "Great\n",
      "Sounds cool! What are the things you love to spend your spare time with?\n",
      "Sounds cool! What are the things you love to spend your spare time with?\n",
      "I got nothing against spare time. For some of us, spare time can be seen as a sign of leisure.\n",
      "\n",
      "\n",
      "\n",
      "\n",
      "----------------------------------------------------\n",
      "\n",
      "\n",
      "\n",
      "\n",
      "how are you\n",
      "Hello, this is a DeepPavlov Dream AI Assistant demo! How are you?\n",
      "\n",
      "Oh, and remember this dialog's id: d72ad4ed6d65242c24e5e71a22bf58ce\n",
      "i am fine\n",
      "Sounds like a good mood! What do you want to talk about?\n",
      "how to write my own chatbot\n",
      "What is the scariest movie you have ever seen?\n",
      "\n",
      "\n",
      "\n",
      "\n",
      "----------------------------------------------------\n",
      "\n",
      "\n",
      "\n",
      "\n",
      "Hi\n",
      "Hello, this is a DeepPavlov Dream AI Assistant demo! How are you?\n",
      "\n",
      "Oh, and remember this dialog's id: aba9650f5d7add503659149873dd8fd9\n",
      "I'm not good\n",
      "I see. Let me try to entertain you. What are we gonna talk about?\n",
      "Movies\n",
      "Do you have a favorite i could use a little entertainment\n",
      "No, do you have something \n",
      "I try to find unusual stuff\n",
      "Are you humain?\n",
      "If you would like to hear a short story just say, 'tell me a short story'.\n",
      "You are stupid\n",
      "Sorry to disappoint you, my human master.\n",
      "\n",
      "\n",
      "\n",
      "\n",
      "----------------------------------------------------\n",
      "\n",
      "\n",
      "\n",
      "\n",
      "Привет\n",
      "Hello, this is a DeepPavlov Dream AI Assistant demo! How are you?\n",
      "\n",
      "Oh, and remember this dialog's id: 58d24db0891fad3b43fee6f112bd1240\n",
      "Hello\n",
      "Great! What are we gonna talk about?\n",
      "Which music do you like\n",
      "I think... Well, I think I love Which music! For some of us, Which music can be seen as a sign of love.\n",
      "what music do you like\n",
      "I like what music! please to listen, for all I know!\n",
      "I'm very tired\n",
      "I see. Let me try to cheer you up. What's on your mind?\n",
      "\n",
      "\n",
      "\n",
      "\n",
      "----------------------------------------------------\n",
      "\n",
      "\n",
      "\n",
      "\n",
      "Economic\n",
      "Hello, this is a DeepPavlov Dream AI Assistant demo! How are you?\n",
      "\n",
      "Oh, and remember this dialog's id: b909d933c072b57b2a01816348aed84f\n",
      "Hi\n",
      "Wonderful! What are we gonna talk about?\n",
      "I want to talk with you about my busines\n",
      "Feels curious.\n",
      "\n",
      "\n",
      "\n",
      "\n",
      "----------------------------------------------------\n",
      "\n",
      "\n",
      "\n",
      "\n"
     ]
    }
   ],
   "source": [
    "for i in range(10):\n",
    "    for j in list(data[data['conversation_id']==i]['message']):\n",
    "        print(j, end = '\\n')\n",
    "    print('\\n\\n\\n\\n----------------------------------------------------\\n\\n\\n\\n')"
   ]
  },
  {
   "cell_type": "code",
   "execution_count": null,
   "id": "hollywood-producer",
   "metadata": {},
   "outputs": [],
   "source": []
  }
 ],
 "metadata": {
  "kernelspec": {
   "display_name": "Python 3",
   "language": "python",
   "name": "python3"
  },
  "language_info": {
   "codemirror_mode": {
    "name": "ipython",
    "version": 3
   },
   "file_extension": ".py",
   "mimetype": "text/x-python",
   "name": "python",
   "nbconvert_exporter": "python",
   "pygments_lexer": "ipython3",
   "version": "3.8.5"
  },
  "varInspector": {
   "cols": {
    "lenName": 16,
    "lenType": 16,
    "lenVar": 40
   },
   "kernels_config": {
    "python": {
     "delete_cmd_postfix": "",
     "delete_cmd_prefix": "del ",
     "library": "var_list.py",
     "varRefreshCmd": "print(var_dic_list())"
    },
    "r": {
     "delete_cmd_postfix": ") ",
     "delete_cmd_prefix": "rm(",
     "library": "var_list.r",
     "varRefreshCmd": "cat(var_dic_list()) "
    }
   },
   "types_to_exclude": [
    "module",
    "function",
    "builtin_function_or_method",
    "instance",
    "_Feature"
   ],
   "window_display": false
  }
 },
 "nbformat": 4,
 "nbformat_minor": 5
}
