{
 "cells": [
  {
   "cell_type": "code",
   "execution_count": 1,
   "metadata": {
    "ExecuteTime": {
     "end_time": "2021-04-14T13:25:31.171464Z",
     "start_time": "2021-04-14T13:25:29.943239Z"
    },
    "colab": {
     "base_uri": "https://localhost:8080/"
    },
    "id": "9sKn6x1B3e3B",
    "outputId": "ba730d21-700b-4665-ba15-573c3ceb8730"
   },
   "outputs": [
    {
     "name": "stdout",
     "output_type": "stream",
     "text": [
      "Wed Apr 14 16:25:31 2021       \n",
      "+-----------------------------------------------------------------------------+\n",
      "| NVIDIA-SMI 465.89       Driver Version: 465.89       CUDA Version: 11.3     |\n",
      "|-------------------------------+----------------------+----------------------+\n",
      "| GPU  Name            TCC/WDDM | Bus-Id        Disp.A | Volatile Uncorr. ECC |\n",
      "| Fan  Temp  Perf  Pwr:Usage/Cap|         Memory-Usage | GPU-Util  Compute M. |\n",
      "|                               |                      |               MIG M. |\n",
      "|===============================+======================+======================|\n",
      "|   0  NVIDIA GeForce ... WDDM  | 00000000:01:00.0 Off |                  N/A |\n",
      "| N/A   62C    P8    17W /  N/A |    164MiB /  6144MiB |      0%      Default |\n",
      "|                               |                      |                  N/A |\n",
      "+-------------------------------+----------------------+----------------------+\n",
      "                                                                               \n",
      "+-----------------------------------------------------------------------------+\n",
      "| Processes:                                                                  |\n",
      "|  GPU   GI   CI        PID   Type   Process name                  GPU Memory |\n",
      "|        ID   ID                                                   Usage      |\n",
      "|=============================================================================|\n",
      "|  No running processes found                                                 |\n",
      "+-----------------------------------------------------------------------------+\n"
     ]
    }
   ],
   "source": [
    "!nvidia-smi"
   ]
  },
  {
   "cell_type": "code",
   "execution_count": 3,
   "metadata": {
    "ExecuteTime": {
     "end_time": "2021-04-14T13:26:53.094669Z",
     "start_time": "2021-04-14T13:26:50.377425Z"
    },
    "colab": {
     "base_uri": "https://localhost:8080/"
    },
    "id": "v9RMvRiK5zNJ",
    "outputId": "6471b045-1506-4675-de05-d9b2a09ca293"
   },
   "outputs": [
    {
     "data": {
      "text/plain": [
       "device(type='cuda')"
      ]
     },
     "execution_count": 3,
     "metadata": {},
     "output_type": "execute_result"
    }
   ],
   "source": [
    "%reload_ext autoreload\n",
    "%autoreload 2\n",
    "%matplotlib inline\n",
    "import os\n",
    "os.environ[\"CUDA_DEVICE_ORDER\"]=\"PCI_BUS_ID\";\n",
    "os.environ[\"CUDA_VISIBLE_DEVICES\"]=\"0\";   \n",
    "\n",
    "import torch\n",
    "device = torch.device(\"cuda\" if torch.cuda.is_available() else \"cpu\")\n",
    "device"
   ]
  },
  {
   "cell_type": "code",
   "execution_count": 5,
   "metadata": {
    "ExecuteTime": {
     "end_time": "2021-04-14T13:28:36.352974Z",
     "start_time": "2021-04-14T13:28:35.440413Z"
    },
    "colab": {
     "base_uri": "https://localhost:8080/"
    },
    "id": "Eg03VVU8ydTA",
    "outputId": "fbdc7c04-b3aa-43bc-e5d5-701f36653c0c"
   },
   "outputs": [
    {
     "name": "stdout",
     "output_type": "stream",
     "text": [
      "size of training set: 416\n",
      "size of validation set: 104\n",
      "classes: ['Music', 'Art_Event', 'Movies_TV', 'Other', 'Sports', 'Games', 'SciTech', 'Phatic', 'Travel_Geo', 'Pets_Animals', 'Entertainment', 'News', 'Psychology', 'Politics', 'Celebrities', 'Religion', 'Literature', 'Fashion', 'Food_Drink', 'Weather_Time']\n"
     ]
    }
   ],
   "source": [
    "import pandas as pd\n",
    "\n",
    "train_df = pd.read_csv('preparing_train_with_context5.csv').dropna(subset=['text_lemm']).reset_index(drop=True)\n",
    "test_df = pd.read_csv('preparing_test_with_context5.csv').dropna(subset=['text_lemm']).reset_index(drop=True)\n",
    "\n",
    "classes = train_df.topic.unique().tolist()\n",
    "\n",
    "train_df['target'] = train_df.topic.map(lambda x: classes.index(x))\n",
    "test_df['target'] = test_df.topic.map(lambda x: classes.index(x))\n",
    "\n",
    "print('size of training set: %s' % (len(train_df)))\n",
    "print('size of validation set: %s' % (len(test_df)))\n",
    "print('classes: %s' % (classes))"
   ]
  },
  {
   "cell_type": "code",
   "execution_count": 6,
   "metadata": {
    "ExecuteTime": {
     "end_time": "2021-04-14T13:28:39.500182Z",
     "start_time": "2021-04-14T13:28:39.425382Z"
    },
    "id": "wkSR7yAoyrz5"
   },
   "outputs": [],
   "source": [
    "x_train = train_df['text_with_context'].values\n",
    "y_train = train_df['target'].values\n",
    "x_test = test_df['text_with_context'].values\n",
    "y_test = test_df['target'].values"
   ]
  },
  {
   "cell_type": "code",
   "execution_count": 7,
   "metadata": {
    "ExecuteTime": {
     "end_time": "2021-04-14T13:28:48.305646Z",
     "start_time": "2021-04-14T13:28:40.492529Z"
    },
    "id": "UVGUA-zK5zNV"
   },
   "outputs": [],
   "source": [
    "import ktrain\n",
    "from ktrain import text"
   ]
  },
  {
   "cell_type": "code",
   "execution_count": 8,
   "metadata": {
    "ExecuteTime": {
     "end_time": "2021-04-14T13:29:51.609948Z",
     "start_time": "2021-04-14T13:28:59.727328Z"
    },
    "colab": {
     "base_uri": "https://localhost:8080/",
     "height": 153
    },
    "id": "5HbFgEc45zNW",
    "outputId": "34a1a314-c8ce-4974-8191-7b15b3ef5fc1"
   },
   "outputs": [
    {
     "name": "stdout",
     "output_type": "stream",
     "text": [
      "downloading pretrained BERT model (uncased_L-12_H-768_A-12.zip)...\n",
      "[██████████████████████████████████████████████████]\n",
      "extracting pretrained BERT model...\n",
      "done.\n",
      "\n",
      "cleanup downloaded zip...\n",
      "done.\n",
      "\n",
      "preprocessing train...\n",
      "language: en\n"
     ]
    },
    {
     "data": {
      "text/html": [
       "done."
      ],
      "text/plain": [
       "<IPython.core.display.HTML object>"
      ]
     },
     "metadata": {},
     "output_type": "display_data"
    },
    {
     "name": "stdout",
     "output_type": "stream",
     "text": [
      "Is Multi-Label? False\n",
      "preprocessing test...\n",
      "language: en\n"
     ]
    },
    {
     "data": {
      "text/html": [
       "done."
      ],
      "text/plain": [
       "<IPython.core.display.HTML object>"
      ]
     },
     "metadata": {},
     "output_type": "display_data"
    },
    {
     "name": "stdout",
     "output_type": "stream",
     "text": [
      "task: text classification\n"
     ]
    }
   ],
   "source": [
    "trn, val, preproc = text.texts_from_array(x_train=x_train, y_train=y_train,\n",
    "                                          x_test=x_test, y_test=y_test,\n",
    "                                          class_names=classes,\n",
    "                                          preprocess_mode='bert',\n",
    "                                          maxlen=500)"
   ]
  },
  {
   "cell_type": "code",
   "execution_count": 9,
   "metadata": {
    "ExecuteTime": {
     "end_time": "2021-04-14T13:29:59.356521Z",
     "start_time": "2021-04-14T13:29:53.299009Z"
    },
    "colab": {
     "base_uri": "https://localhost:8080/"
    },
    "id": "fgzdn9s35zNW",
    "outputId": "970926d0-b957-4d6c-f58c-bdf5959a3c3e"
   },
   "outputs": [
    {
     "name": "stdout",
     "output_type": "stream",
     "text": [
      "Is Multi-Label? False\n",
      "maxlen is 500\n",
      "done.\n"
     ]
    }
   ],
   "source": [
    "model = text.text_classifier('bert', train_data=trn, preproc=preproc)"
   ]
  },
  {
   "cell_type": "code",
   "execution_count": 10,
   "metadata": {
    "ExecuteTime": {
     "end_time": "2021-04-14T13:30:01.688059Z",
     "start_time": "2021-04-14T13:30:00.790387Z"
    },
    "id": "OfUJ3dwV5zNX"
   },
   "outputs": [],
   "source": [
    "learner = ktrain.get_learner(model, train_data=trn, batch_size=6)"
   ]
  },
  {
   "cell_type": "code",
   "execution_count": 11,
   "metadata": {
    "ExecuteTime": {
     "end_time": "2021-04-14T13:30:47.533101Z",
     "start_time": "2021-04-14T13:30:02.905313Z"
    },
    "colab": {
     "base_uri": "https://localhost:8080/"
    },
    "id": "OhObOc2D5zNX",
    "outputId": "d803ca70-a0dd-46a0-fe67-d6bb13739471"
   },
   "outputs": [
    {
     "name": "stdout",
     "output_type": "stream",
     "text": [
      "simulating training for different learning rates... this may take a few moments...\n",
      "Epoch 1/1024\n",
      " 1/70 [..............................] - ETA: 32:20 - loss: 3.3775 - accuracy: 0.0000e+00"
     ]
    },
    {
     "ename": "ValueError",
     "evalue": "Please call lr_find first.",
     "output_type": "error",
     "traceback": [
      "\u001b[1;31m---------------------------------------------------------------------------\u001b[0m",
      "\u001b[1;31mValueError\u001b[0m                                Traceback (most recent call last)",
      "\u001b[1;32m<ipython-input-11-00c6490fec59>\u001b[0m in \u001b[0;36m<module>\u001b[1;34m\u001b[0m\n\u001b[0;32m      1\u001b[0m \u001b[0mlearner\u001b[0m\u001b[1;33m.\u001b[0m\u001b[0mlr_find\u001b[0m\u001b[1;33m(\u001b[0m\u001b[1;33m)\u001b[0m\u001b[1;33m\u001b[0m\u001b[1;33m\u001b[0m\u001b[0m\n\u001b[1;32m----> 2\u001b[1;33m \u001b[0mlearner\u001b[0m\u001b[1;33m.\u001b[0m\u001b[0mlr_plot\u001b[0m\u001b[1;33m(\u001b[0m\u001b[1;33m)\u001b[0m\u001b[1;33m\u001b[0m\u001b[1;33m\u001b[0m\u001b[0m\n\u001b[0m",
      "\u001b[1;32m~\\anaconda3\\lib\\site-packages\\ktrain\\core.py\u001b[0m in \u001b[0;36mlr_plot\u001b[1;34m(self, n_skip_beginning, n_skip_end, suggest, return_fig)\u001b[0m\n\u001b[0;32m    616\u001b[0m             \u001b[1;32mif\u001b[0m \u001b[0mn_skip_end\u001b[0m \u001b[1;33m==\u001b[0m \u001b[1;36m5\u001b[0m\u001b[1;33m:\u001b[0m \u001b[0mn_skip_end\u001b[0m\u001b[1;33m=\u001b[0m\u001b[1;36m10\u001b[0m\u001b[1;33m\u001b[0m\u001b[1;33m\u001b[0m\u001b[0m\n\u001b[0;32m    617\u001b[0m \u001b[1;33m\u001b[0m\u001b[0m\n\u001b[1;32m--> 618\u001b[1;33m         \u001b[1;32mif\u001b[0m \u001b[0mself\u001b[0m\u001b[1;33m.\u001b[0m\u001b[0mlr_finder\u001b[0m \u001b[1;32mis\u001b[0m \u001b[1;32mNone\u001b[0m \u001b[1;32mor\u001b[0m \u001b[1;32mnot\u001b[0m \u001b[0mself\u001b[0m\u001b[1;33m.\u001b[0m\u001b[0mlr_finder\u001b[0m\u001b[1;33m.\u001b[0m\u001b[0mfind_called\u001b[0m\u001b[1;33m(\u001b[0m\u001b[1;33m)\u001b[0m\u001b[1;33m:\u001b[0m \u001b[1;32mraise\u001b[0m \u001b[0mValueError\u001b[0m\u001b[1;33m(\u001b[0m\u001b[1;34m'Please call lr_find first.'\u001b[0m\u001b[1;33m)\u001b[0m\u001b[1;33m\u001b[0m\u001b[1;33m\u001b[0m\u001b[0m\n\u001b[0m\u001b[0;32m    619\u001b[0m         return self.lr_finder.plot_loss(n_skip_beginning=n_skip_beginning,\n\u001b[0;32m    620\u001b[0m                                         n_skip_end=n_skip_end, suggest=suggest, return_fig=return_fig)\n",
      "\u001b[1;31mValueError\u001b[0m: Please call lr_find first."
     ]
    }
   ],
   "source": [
    "learner.lr_find()\n",
    "learner.lr_plot()"
   ]
  },
  {
   "cell_type": "code",
   "execution_count": 12,
   "metadata": {
    "ExecuteTime": {
     "end_time": "2021-04-14T13:49:01.265539Z",
     "start_time": "2021-04-14T13:30:48.961185Z"
    },
    "colab": {
     "base_uri": "https://localhost:8080/"
    },
    "id": "SoKT2_V-5zNX",
    "outputId": "426ecf1b-ef67-44e6-d975-ac567b5102ee"
   },
   "outputs": [
    {
     "name": "stdout",
     "output_type": "stream",
     "text": [
      "\n",
      "\n",
      "begin training using triangular learning rate policy with max lr of 2e-05...\n",
      "Epoch 1/5\n",
      "70/70 [==============================] - 627s 9s/step - loss: 2.7672 - accuracy: 0.1731\n",
      "Epoch 2/5\n",
      "51/70 [====================>.........] - ETA: 2:49 - loss: 2.2423 - accuracy: 0.3595"
     ]
    },
    {
     "ename": "KeyboardInterrupt",
     "evalue": "",
     "output_type": "error",
     "traceback": [
      "\u001b[1;31m---------------------------------------------------------------------------\u001b[0m",
      "\u001b[1;31mKeyboardInterrupt\u001b[0m                         Traceback (most recent call last)",
      "\u001b[1;32m<ipython-input-12-597c02aa36ae>\u001b[0m in \u001b[0;36m<module>\u001b[1;34m\u001b[0m\n\u001b[1;32m----> 1\u001b[1;33m \u001b[0mlearner\u001b[0m\u001b[1;33m.\u001b[0m\u001b[0mautofit\u001b[0m\u001b[1;33m(\u001b[0m\u001b[1;36m2e-5\u001b[0m\u001b[1;33m,\u001b[0m \u001b[1;36m5\u001b[0m\u001b[1;33m)\u001b[0m\u001b[1;33m\u001b[0m\u001b[1;33m\u001b[0m\u001b[0m\n\u001b[0m",
      "\u001b[1;32m~\\anaconda3\\lib\\site-packages\\ktrain\\core.py\u001b[0m in \u001b[0;36mautofit\u001b[1;34m(self, lr, epochs, early_stopping, reduce_on_plateau, reduce_factor, cycle_momentum, max_momentum, min_momentum, monitor, checkpoint_folder, class_weight, callbacks, steps_per_epoch, verbose)\u001b[0m\n\u001b[0;32m    993\u001b[0m         U.vprint('begin training using %s policy with max lr of %s...' % (policy, lr), \n\u001b[0;32m    994\u001b[0m                 verbose=verbose)\n\u001b[1;32m--> 995\u001b[1;33m         hist = self.fit(lr, epochs, early_stopping=early_stopping,\n\u001b[0m\u001b[0;32m    996\u001b[0m                         \u001b[0mcheckpoint_folder\u001b[0m\u001b[1;33m=\u001b[0m\u001b[0mcheckpoint_folder\u001b[0m\u001b[1;33m,\u001b[0m\u001b[1;33m\u001b[0m\u001b[1;33m\u001b[0m\u001b[0m\n\u001b[0;32m    997\u001b[0m                         \u001b[0mverbose\u001b[0m\u001b[1;33m=\u001b[0m\u001b[0mverbose\u001b[0m\u001b[1;33m,\u001b[0m \u001b[0mclass_weight\u001b[0m\u001b[1;33m=\u001b[0m\u001b[0mclass_weight\u001b[0m\u001b[1;33m,\u001b[0m \u001b[0mcallbacks\u001b[0m\u001b[1;33m=\u001b[0m\u001b[0mkcallbacks\u001b[0m\u001b[1;33m,\u001b[0m\u001b[1;33m\u001b[0m\u001b[1;33m\u001b[0m\u001b[0m\n",
      "\u001b[1;32m~\\anaconda3\\lib\\site-packages\\ktrain\\core.py\u001b[0m in \u001b[0;36mfit\u001b[1;34m(self, lr, n_cycles, cycle_len, cycle_mult, lr_decay, checkpoint_folder, early_stopping, verbose, class_weight, callbacks, steps_per_epoch)\u001b[0m\n\u001b[0;32m   1124\u001b[0m         \u001b[1;32mwith\u001b[0m \u001b[0mwarnings\u001b[0m\u001b[1;33m.\u001b[0m\u001b[0mcatch_warnings\u001b[0m\u001b[1;33m(\u001b[0m\u001b[1;33m)\u001b[0m\u001b[1;33m:\u001b[0m\u001b[1;33m\u001b[0m\u001b[1;33m\u001b[0m\u001b[0m\n\u001b[0;32m   1125\u001b[0m             \u001b[0mwarnings\u001b[0m\u001b[1;33m.\u001b[0m\u001b[0mfilterwarnings\u001b[0m\u001b[1;33m(\u001b[0m\u001b[1;34m'ignore'\u001b[0m\u001b[1;33m,\u001b[0m \u001b[0mmessage\u001b[0m\u001b[1;33m=\u001b[0m\u001b[1;34m'.*Check your callbacks.*'\u001b[0m\u001b[1;33m)\u001b[0m\u001b[1;33m\u001b[0m\u001b[1;33m\u001b[0m\u001b[0m\n\u001b[1;32m-> 1126\u001b[1;33m             hist = self.model.fit(self._prepare(x_train), \n\u001b[0m\u001b[0;32m   1127\u001b[0m                                   \u001b[0mself\u001b[0m\u001b[1;33m.\u001b[0m\u001b[0m_prepare\u001b[0m\u001b[1;33m(\u001b[0m\u001b[0my_train\u001b[0m\u001b[1;33m,\u001b[0m \u001b[0mtrain\u001b[0m\u001b[1;33m=\u001b[0m\u001b[1;32mFalse\u001b[0m\u001b[1;33m)\u001b[0m\u001b[1;33m,\u001b[0m\u001b[1;33m\u001b[0m\u001b[1;33m\u001b[0m\u001b[0m\n\u001b[0;32m   1128\u001b[0m                                   \u001b[0mbatch_size\u001b[0m\u001b[1;33m=\u001b[0m\u001b[0mself\u001b[0m\u001b[1;33m.\u001b[0m\u001b[0mbatch_size\u001b[0m\u001b[1;33m,\u001b[0m\u001b[1;33m\u001b[0m\u001b[1;33m\u001b[0m\u001b[0m\n",
      "\u001b[1;32m~\\anaconda3\\lib\\site-packages\\tensorflow\\python\\keras\\engine\\training.py\u001b[0m in \u001b[0;36mfit\u001b[1;34m(self, x, y, batch_size, epochs, verbose, callbacks, validation_split, validation_data, shuffle, class_weight, sample_weight, initial_epoch, steps_per_epoch, validation_steps, validation_batch_size, validation_freq, max_queue_size, workers, use_multiprocessing)\u001b[0m\n\u001b[0;32m   1098\u001b[0m                 _r=1):\n\u001b[0;32m   1099\u001b[0m               \u001b[0mcallbacks\u001b[0m\u001b[1;33m.\u001b[0m\u001b[0mon_train_batch_begin\u001b[0m\u001b[1;33m(\u001b[0m\u001b[0mstep\u001b[0m\u001b[1;33m)\u001b[0m\u001b[1;33m\u001b[0m\u001b[1;33m\u001b[0m\u001b[0m\n\u001b[1;32m-> 1100\u001b[1;33m               \u001b[0mtmp_logs\u001b[0m \u001b[1;33m=\u001b[0m \u001b[0mself\u001b[0m\u001b[1;33m.\u001b[0m\u001b[0mtrain_function\u001b[0m\u001b[1;33m(\u001b[0m\u001b[0miterator\u001b[0m\u001b[1;33m)\u001b[0m\u001b[1;33m\u001b[0m\u001b[1;33m\u001b[0m\u001b[0m\n\u001b[0m\u001b[0;32m   1101\u001b[0m               \u001b[1;32mif\u001b[0m \u001b[0mdata_handler\u001b[0m\u001b[1;33m.\u001b[0m\u001b[0mshould_sync\u001b[0m\u001b[1;33m:\u001b[0m\u001b[1;33m\u001b[0m\u001b[1;33m\u001b[0m\u001b[0m\n\u001b[0;32m   1102\u001b[0m                 \u001b[0mcontext\u001b[0m\u001b[1;33m.\u001b[0m\u001b[0masync_wait\u001b[0m\u001b[1;33m(\u001b[0m\u001b[1;33m)\u001b[0m\u001b[1;33m\u001b[0m\u001b[1;33m\u001b[0m\u001b[0m\n",
      "\u001b[1;32m~\\anaconda3\\lib\\site-packages\\tensorflow\\python\\eager\\def_function.py\u001b[0m in \u001b[0;36m__call__\u001b[1;34m(self, *args, **kwds)\u001b[0m\n\u001b[0;32m    826\u001b[0m     \u001b[0mtracing_count\u001b[0m \u001b[1;33m=\u001b[0m \u001b[0mself\u001b[0m\u001b[1;33m.\u001b[0m\u001b[0mexperimental_get_tracing_count\u001b[0m\u001b[1;33m(\u001b[0m\u001b[1;33m)\u001b[0m\u001b[1;33m\u001b[0m\u001b[1;33m\u001b[0m\u001b[0m\n\u001b[0;32m    827\u001b[0m     \u001b[1;32mwith\u001b[0m \u001b[0mtrace\u001b[0m\u001b[1;33m.\u001b[0m\u001b[0mTrace\u001b[0m\u001b[1;33m(\u001b[0m\u001b[0mself\u001b[0m\u001b[1;33m.\u001b[0m\u001b[0m_name\u001b[0m\u001b[1;33m)\u001b[0m \u001b[1;32mas\u001b[0m \u001b[0mtm\u001b[0m\u001b[1;33m:\u001b[0m\u001b[1;33m\u001b[0m\u001b[1;33m\u001b[0m\u001b[0m\n\u001b[1;32m--> 828\u001b[1;33m       \u001b[0mresult\u001b[0m \u001b[1;33m=\u001b[0m \u001b[0mself\u001b[0m\u001b[1;33m.\u001b[0m\u001b[0m_call\u001b[0m\u001b[1;33m(\u001b[0m\u001b[1;33m*\u001b[0m\u001b[0margs\u001b[0m\u001b[1;33m,\u001b[0m \u001b[1;33m**\u001b[0m\u001b[0mkwds\u001b[0m\u001b[1;33m)\u001b[0m\u001b[1;33m\u001b[0m\u001b[1;33m\u001b[0m\u001b[0m\n\u001b[0m\u001b[0;32m    829\u001b[0m       \u001b[0mcompiler\u001b[0m \u001b[1;33m=\u001b[0m \u001b[1;34m\"xla\"\u001b[0m \u001b[1;32mif\u001b[0m \u001b[0mself\u001b[0m\u001b[1;33m.\u001b[0m\u001b[0m_experimental_compile\u001b[0m \u001b[1;32melse\u001b[0m \u001b[1;34m\"nonXla\"\u001b[0m\u001b[1;33m\u001b[0m\u001b[1;33m\u001b[0m\u001b[0m\n\u001b[0;32m    830\u001b[0m       \u001b[0mnew_tracing_count\u001b[0m \u001b[1;33m=\u001b[0m \u001b[0mself\u001b[0m\u001b[1;33m.\u001b[0m\u001b[0mexperimental_get_tracing_count\u001b[0m\u001b[1;33m(\u001b[0m\u001b[1;33m)\u001b[0m\u001b[1;33m\u001b[0m\u001b[1;33m\u001b[0m\u001b[0m\n",
      "\u001b[1;32m~\\anaconda3\\lib\\site-packages\\tensorflow\\python\\eager\\def_function.py\u001b[0m in \u001b[0;36m_call\u001b[1;34m(self, *args, **kwds)\u001b[0m\n\u001b[0;32m    853\u001b[0m       \u001b[1;31m# In this case we have created variables on the first call, so we run the\u001b[0m\u001b[1;33m\u001b[0m\u001b[1;33m\u001b[0m\u001b[1;33m\u001b[0m\u001b[0m\n\u001b[0;32m    854\u001b[0m       \u001b[1;31m# defunned version which is guaranteed to never create variables.\u001b[0m\u001b[1;33m\u001b[0m\u001b[1;33m\u001b[0m\u001b[1;33m\u001b[0m\u001b[0m\n\u001b[1;32m--> 855\u001b[1;33m       \u001b[1;32mreturn\u001b[0m \u001b[0mself\u001b[0m\u001b[1;33m.\u001b[0m\u001b[0m_stateless_fn\u001b[0m\u001b[1;33m(\u001b[0m\u001b[1;33m*\u001b[0m\u001b[0margs\u001b[0m\u001b[1;33m,\u001b[0m \u001b[1;33m**\u001b[0m\u001b[0mkwds\u001b[0m\u001b[1;33m)\u001b[0m  \u001b[1;31m# pylint: disable=not-callable\u001b[0m\u001b[1;33m\u001b[0m\u001b[1;33m\u001b[0m\u001b[0m\n\u001b[0m\u001b[0;32m    856\u001b[0m     \u001b[1;32melif\u001b[0m \u001b[0mself\u001b[0m\u001b[1;33m.\u001b[0m\u001b[0m_stateful_fn\u001b[0m \u001b[1;32mis\u001b[0m \u001b[1;32mnot\u001b[0m \u001b[1;32mNone\u001b[0m\u001b[1;33m:\u001b[0m\u001b[1;33m\u001b[0m\u001b[1;33m\u001b[0m\u001b[0m\n\u001b[0;32m    857\u001b[0m       \u001b[1;31m# Release the lock early so that multiple threads can perform the call\u001b[0m\u001b[1;33m\u001b[0m\u001b[1;33m\u001b[0m\u001b[1;33m\u001b[0m\u001b[0m\n",
      "\u001b[1;32m~\\anaconda3\\lib\\site-packages\\tensorflow\\python\\eager\\function.py\u001b[0m in \u001b[0;36m__call__\u001b[1;34m(self, *args, **kwargs)\u001b[0m\n\u001b[0;32m   2940\u001b[0m       (graph_function,\n\u001b[0;32m   2941\u001b[0m        filtered_flat_args) = self._maybe_define_function(args, kwargs)\n\u001b[1;32m-> 2942\u001b[1;33m     return graph_function._call_flat(\n\u001b[0m\u001b[0;32m   2943\u001b[0m         filtered_flat_args, captured_inputs=graph_function.captured_inputs)  # pylint: disable=protected-access\n\u001b[0;32m   2944\u001b[0m \u001b[1;33m\u001b[0m\u001b[0m\n",
      "\u001b[1;32m~\\anaconda3\\lib\\site-packages\\tensorflow\\python\\eager\\function.py\u001b[0m in \u001b[0;36m_call_flat\u001b[1;34m(self, args, captured_inputs, cancellation_manager)\u001b[0m\n\u001b[0;32m   1916\u001b[0m         and executing_eagerly):\n\u001b[0;32m   1917\u001b[0m       \u001b[1;31m# No tape is watching; skip to running the function.\u001b[0m\u001b[1;33m\u001b[0m\u001b[1;33m\u001b[0m\u001b[1;33m\u001b[0m\u001b[0m\n\u001b[1;32m-> 1918\u001b[1;33m       return self._build_call_outputs(self._inference_function.call(\n\u001b[0m\u001b[0;32m   1919\u001b[0m           ctx, args, cancellation_manager=cancellation_manager))\n\u001b[0;32m   1920\u001b[0m     forward_backward = self._select_forward_and_backward_functions(\n",
      "\u001b[1;32m~\\anaconda3\\lib\\site-packages\\tensorflow\\python\\eager\\function.py\u001b[0m in \u001b[0;36mcall\u001b[1;34m(self, ctx, args, cancellation_manager)\u001b[0m\n\u001b[0;32m    553\u001b[0m       \u001b[1;32mwith\u001b[0m \u001b[0m_InterpolateFunctionError\u001b[0m\u001b[1;33m(\u001b[0m\u001b[0mself\u001b[0m\u001b[1;33m)\u001b[0m\u001b[1;33m:\u001b[0m\u001b[1;33m\u001b[0m\u001b[1;33m\u001b[0m\u001b[0m\n\u001b[0;32m    554\u001b[0m         \u001b[1;32mif\u001b[0m \u001b[0mcancellation_manager\u001b[0m \u001b[1;32mis\u001b[0m \u001b[1;32mNone\u001b[0m\u001b[1;33m:\u001b[0m\u001b[1;33m\u001b[0m\u001b[1;33m\u001b[0m\u001b[0m\n\u001b[1;32m--> 555\u001b[1;33m           outputs = execute.execute(\n\u001b[0m\u001b[0;32m    556\u001b[0m               \u001b[0mstr\u001b[0m\u001b[1;33m(\u001b[0m\u001b[0mself\u001b[0m\u001b[1;33m.\u001b[0m\u001b[0msignature\u001b[0m\u001b[1;33m.\u001b[0m\u001b[0mname\u001b[0m\u001b[1;33m)\u001b[0m\u001b[1;33m,\u001b[0m\u001b[1;33m\u001b[0m\u001b[1;33m\u001b[0m\u001b[0m\n\u001b[0;32m    557\u001b[0m               \u001b[0mnum_outputs\u001b[0m\u001b[1;33m=\u001b[0m\u001b[0mself\u001b[0m\u001b[1;33m.\u001b[0m\u001b[0m_num_outputs\u001b[0m\u001b[1;33m,\u001b[0m\u001b[1;33m\u001b[0m\u001b[1;33m\u001b[0m\u001b[0m\n",
      "\u001b[1;32m~\\anaconda3\\lib\\site-packages\\tensorflow\\python\\eager\\execute.py\u001b[0m in \u001b[0;36mquick_execute\u001b[1;34m(op_name, num_outputs, inputs, attrs, ctx, name)\u001b[0m\n\u001b[0;32m     57\u001b[0m   \u001b[1;32mtry\u001b[0m\u001b[1;33m:\u001b[0m\u001b[1;33m\u001b[0m\u001b[1;33m\u001b[0m\u001b[0m\n\u001b[0;32m     58\u001b[0m     \u001b[0mctx\u001b[0m\u001b[1;33m.\u001b[0m\u001b[0mensure_initialized\u001b[0m\u001b[1;33m(\u001b[0m\u001b[1;33m)\u001b[0m\u001b[1;33m\u001b[0m\u001b[1;33m\u001b[0m\u001b[0m\n\u001b[1;32m---> 59\u001b[1;33m     tensors = pywrap_tfe.TFE_Py_Execute(ctx._handle, device_name, op_name,\n\u001b[0m\u001b[0;32m     60\u001b[0m                                         inputs, attrs, num_outputs)\n\u001b[0;32m     61\u001b[0m   \u001b[1;32mexcept\u001b[0m \u001b[0mcore\u001b[0m\u001b[1;33m.\u001b[0m\u001b[0m_NotOkStatusException\u001b[0m \u001b[1;32mas\u001b[0m \u001b[0me\u001b[0m\u001b[1;33m:\u001b[0m\u001b[1;33m\u001b[0m\u001b[1;33m\u001b[0m\u001b[0m\n",
      "\u001b[1;31mKeyboardInterrupt\u001b[0m: "
     ]
    }
   ],
   "source": [
    "learner.autofit(2e-5, 5)"
   ]
  },
  {
   "cell_type": "code",
   "execution_count": null,
   "metadata": {
    "colab": {
     "base_uri": "https://localhost:8080/"
    },
    "id": "iF95WriI5zNY",
    "outputId": "94c60300-7914-4ee2-c73e-0811c3013e8e"
   },
   "outputs": [
    {
     "name": "stdout",
     "output_type": "stream",
     "text": [
      "              precision    recall  f1-score   support\n",
      "\n",
      "           0       0.73      0.86      0.79        22\n",
      "           1       0.70      0.35      0.47        20\n",
      "           2       0.59      0.80      0.68        20\n",
      "           3       0.61      0.69      0.65        16\n",
      "           4       0.70      0.74      0.72        19\n",
      "           5       0.72      0.54      0.62        24\n",
      "           6       0.42      0.32      0.36        25\n",
      "           7       1.00      0.77      0.87        22\n",
      "           8       0.80      0.76      0.78        21\n",
      "           9       0.81      0.72      0.76        29\n",
      "          10       0.83      1.00      0.91        20\n",
      "          11       0.68      0.88      0.77        26\n",
      "          12       0.75      0.50      0.60        18\n",
      "          13       0.62      0.81      0.70        26\n",
      "          14       0.83      0.83      0.83        23\n",
      "          15       1.00      0.67      0.80        18\n",
      "          16       0.52      0.61      0.56        23\n",
      "          17       0.60      0.64      0.62        28\n",
      "          18       0.42      0.48      0.45        23\n",
      "\n",
      "    accuracy                           0.68       423\n",
      "   macro avg       0.70      0.68      0.68       423\n",
      "weighted avg       0.70      0.68      0.68       423\n",
      "\n"
     ]
    },
    {
     "data": {
      "text/plain": [
       "array([[19,  1,  0,  1,  0,  0,  0,  0,  0,  0,  0,  0,  0,  0,  0,  0,\n",
       "         1,  0,  0],\n",
       "       [ 5,  7,  1,  0,  2,  0,  0,  0,  4,  0,  0,  0,  0,  0,  0,  0,\n",
       "         0,  0,  1],\n",
       "       [ 0,  0, 16,  0,  1,  0,  0,  0,  0,  2,  0,  0,  0,  0,  0,  0,\n",
       "         0,  0,  1],\n",
       "       [ 0,  0,  0, 11,  1,  1,  0,  0,  0,  0,  0,  1,  0,  0,  1,  0,\n",
       "         0,  1,  0],\n",
       "       [ 0,  0,  0,  2, 14,  1,  0,  0,  0,  1,  0,  0,  0,  0,  1,  0,\n",
       "         0,  0,  0],\n",
       "       [ 0,  0,  2,  1,  0, 13,  1,  0,  0,  0,  0,  4,  0,  0,  1,  0,\n",
       "         1,  1,  0],\n",
       "       [ 0,  0,  1,  0,  0,  1,  8,  0,  0,  0,  0,  1,  0,  2,  0,  0,\n",
       "         5,  0,  7],\n",
       "       [ 0,  0,  0,  0,  0,  0,  2, 17,  0,  0,  1,  0,  0,  0,  0,  0,\n",
       "         2,  0,  0],\n",
       "       [ 2,  0,  1,  2,  0,  0,  0,  0, 16,  0,  0,  0,  0,  0,  0,  0,\n",
       "         0,  0,  0],\n",
       "       [ 0,  0,  3,  0,  0,  0,  1,  0,  0, 21,  0,  1,  1,  0,  0,  0,\n",
       "         0,  1,  1],\n",
       "       [ 0,  0,  0,  0,  0,  0,  0,  0,  0,  0, 20,  0,  0,  0,  0,  0,\n",
       "         0,  0,  0],\n",
       "       [ 0,  0,  0,  0,  0,  1,  0,  0,  0,  0,  0, 23,  0,  1,  0,  0,\n",
       "         0,  0,  1],\n",
       "       [ 0,  0,  1,  0,  0,  0,  0,  0,  0,  0,  0,  0,  9,  0,  0,  0,\n",
       "         1,  7,  0],\n",
       "       [ 0,  0,  0,  0,  0,  1,  1,  0,  0,  0,  0,  0,  0, 21,  0,  0,\n",
       "         1,  0,  2],\n",
       "       [ 0,  1,  0,  0,  1,  0,  0,  0,  0,  0,  0,  0,  0,  2, 19,  0,\n",
       "         0,  0,  0],\n",
       "       [ 0,  1,  0,  1,  0,  0,  0,  0,  0,  2,  0,  0,  0,  0,  0, 12,\n",
       "         0,  1,  1],\n",
       "       [ 0,  0,  0,  0,  0,  0,  4,  0,  0,  0,  1,  2,  0,  0,  0,  0,\n",
       "        14,  1,  1],\n",
       "       [ 0,  0,  2,  0,  0,  0,  0,  0,  0,  0,  2,  2,  2,  0,  0,  0,\n",
       "         2, 18,  0],\n",
       "       [ 0,  0,  0,  0,  1,  0,  2,  0,  0,  0,  0,  0,  0,  8,  1,  0,\n",
       "         0,  0, 11]])"
      ]
     },
     "execution_count": 53,
     "metadata": {
      "tags": []
     },
     "output_type": "execute_result"
    }
   ],
   "source": [
    "learner.validate(val_data=val)"
   ]
  },
  {
   "cell_type": "code",
   "execution_count": null,
   "metadata": {
    "id": "_ZgH8qY85zNY"
   },
   "outputs": [],
   "source": [
    "predictor = ktrain.get_predictor(learner.model, preproc)"
   ]
  },
  {
   "cell_type": "code",
   "execution_count": null,
   "metadata": {
    "id": "Q719Fqa_RAYx"
   },
   "outputs": [],
   "source": [
    "import pandas as pd\n",
    "import dill"
   ]
  },
  {
   "cell_type": "code",
   "execution_count": null,
   "metadata": {
    "id": "EPet48qLLw6M"
   },
   "outputs": [],
   "source": [
    "predictor = ktrain.load_predictor('/content/drive/MyDrive/BERT/predictor_bert 27.03.json/')"
   ]
  },
  {
   "cell_type": "code",
   "execution_count": null,
   "metadata": {
    "id": "UjPv7br3qN5b"
   },
   "outputs": [],
   "source": [
    "classes = predictor.get_classes()"
   ]
  },
  {
   "cell_type": "code",
   "execution_count": null,
   "metadata": {
    "id": "dc8LFBtwpWdM"
   },
   "outputs": [],
   "source": [
    "def get_subjects_by_general(df):\n",
    "    subjects_obj = {}\n",
    "    global_subj = \"\"\n",
    "\n",
    "    for index, subj in subjects.iterrows():\n",
    "        name = subj['Description']\n",
    "        code = subj['ASJC Code']\n",
    "        \n",
    "        if code != code:\n",
    "            global_subj = name\n",
    "            continue\n",
    "\n",
    "        subjects_obj[int(code)] = global_subj\n",
    "    \n",
    "    return subjects_obj\n",
    "\n",
    "subjects = pd.read_excel('/content/drive/MyDrive/BERT/subjects.xlsx')\n",
    "subjects_obj = get_subjects_by_general(subjects)"
   ]
  },
  {
   "cell_type": "code",
   "execution_count": null,
   "metadata": {
    "id": "dkvPdDwGT3bG"
   },
   "outputs": [],
   "source": [
    "df_preparing = pd.read_csv('/content/drive/MyDrive/BERT/preparing_motivation.csv')"
   ]
  },
  {
   "cell_type": "code",
   "execution_count": null,
   "metadata": {
    "id": "BQIbH_ojRh7X"
   },
   "outputs": [],
   "source": [
    "with open('/content/drive/MyDrive/BERT/Мотивация 2020.dictionary', 'rb') as file:\n",
    "  df_motivation = pd.DataFrame(dill.load(file))"
   ]
  },
  {
   "cell_type": "code",
   "execution_count": null,
   "metadata": {
    "id": "P8dqdcReUNIm"
   },
   "outputs": [],
   "source": [
    "df_motivation['text_lemm'] = df_motivation.eid.map(df_preparing.set_index('eid')['text_lemm'])"
   ]
  },
  {
   "cell_type": "code",
   "execution_count": null,
   "metadata": {
    "id": "16fBIqTJppJ6"
   },
   "outputs": [],
   "source": [
    "df_motivation['subject'] = [[sub.area for sub in subjects] for subjects in df_motivation.subject_areas.to_list()]\n",
    "df_motivation['subject_code'] = [[sub.code for sub in subjects] for subjects in df_motivation.subject_areas.to_list()]\n",
    "df_motivation['general_subj'] = [[subjects_obj[int(sub)] for sub in subjects] for subjects in df_motivation.subject_code.to_list()]\n",
    "# df_motivation['target'] = df_motivation.general_subj.map(lambda x: classes.index(x))"
   ]
  },
  {
   "cell_type": "code",
   "execution_count": null,
   "metadata": {
    "id": "l8mgMTDwo3VX"
   },
   "outputs": [],
   "source": [
    "df_motivation.dropna(subset=['text_lemm'], inplace=True)\n",
    "df_motivation.reset_index(drop=True, inplace=True)"
   ]
  },
  {
   "cell_type": "code",
   "execution_count": null,
   "metadata": {
    "id": "ygH3WeZyUg63"
   },
   "outputs": [],
   "source": [
    "import string\n",
    "df_motivation['subject_clean'] = df_motivation['subject'].map(lambda x: \"\".join([w for w in \" \".join(x).lower() if w not in string.punctuation]))"
   ]
  },
  {
   "cell_type": "code",
   "execution_count": null,
   "metadata": {
    "id": "lyYvflfxYN9J"
   },
   "outputs": [],
   "source": [
    "df_motivation['keywords_clean'] = df_motivation['authkeywords'].map(lambda x: \"\".join([w for w in \" \".join(x).lower() if w not in string.punctuation]) if x is not None else \"\")\n",
    "df_motivation['idxterms_clean'] = df_motivation['idxterms'].map(lambda x: \"\".join([w for w in \" \".join(x).lower() if w not in string.punctuation]) if x is not None else \"\")"
   ]
  },
  {
   "cell_type": "code",
   "execution_count": null,
   "metadata": {
    "id": "iq7GRwUV5zNZ"
   },
   "outputs": [],
   "source": [
    "y_pred = predictor.predict((df_motivation['title'] + \" \" + df_motivation['keywords_clean']).values)"
   ]
  },
  {
   "cell_type": "code",
   "execution_count": null,
   "metadata": {
    "id": "AbUHKAPqrB3L"
   },
   "outputs": [],
   "source": [
    "cnt_all = 269\n",
    "cnt_pos = 0\n",
    "\n",
    "for ind, doc in df_motivation.iterrows():\n",
    "  pred = y_pred[ind]\n",
    "  \n",
    "  if pred in doc.general_subj:\n",
    "    cnt_pos += 1"
   ]
  },
  {
   "cell_type": "code",
   "execution_count": null,
   "metadata": {
    "colab": {
     "base_uri": "https://localhost:8080/"
    },
    "id": "ct-3mo7-sGeL",
    "outputId": "89de1779-f260-442b-f0b5-03d3457bda69"
   },
   "outputs": [
    {
     "data": {
      "text/plain": [
       "0.4312267657992565"
      ]
     },
     "execution_count": 122,
     "metadata": {
      "tags": []
     },
     "output_type": "execute_result"
    }
   ],
   "source": [
    "cnt_pos / cnt_all"
   ]
  },
  {
   "cell_type": "code",
   "execution_count": null,
   "metadata": {
    "id": "lJnhFzVE5zNZ"
   },
   "outputs": [],
   "source": [
    "y_pred_values = [classes.index(item) for item in y_pred]"
   ]
  },
  {
   "cell_type": "code",
   "execution_count": null,
   "metadata": {
    "id": "uqT9vh5v5zNZ"
   },
   "outputs": [],
   "source": [
    "df_motivation['target'] = df_motivation.general_subj.map(lambda x: classes.index(x))\n",
    "y_true = df_motivation['target'].values"
   ]
  },
  {
   "cell_type": "code",
   "execution_count": null,
   "metadata": {
    "colab": {
     "base_uri": "https://localhost:8080/"
    },
    "id": "PJLc4jasfGGY",
    "outputId": "b2f26e50-985d-44c7-8ae4-b05b0a39148c"
   },
   "outputs": [
    {
     "data": {
      "text/plain": [
       "0.3333333333333333"
      ]
     },
     "execution_count": 15,
     "metadata": {
      "tags": []
     },
     "output_type": "execute_result"
    }
   ],
   "source": [
    "from sklearn.metrics import accuracy_score\n",
    "accuracy_score(y_true, y_pred_values)"
   ]
  },
  {
   "cell_type": "code",
   "execution_count": null,
   "metadata": {
    "colab": {
     "base_uri": "https://localhost:8080/"
    },
    "id": "_Rg1a-O-TD82",
    "outputId": "1fb1ee56-613e-4363-aa60-256a7756ff76"
   },
   "outputs": [
    {
     "data": {
      "text/plain": [
       "['Earth and Planetary Sciences',\n",
       " 'Dentistry',\n",
       " 'Psychology',\n",
       " 'Biochemistry, Genetics and Molecular Biology',\n",
       " 'Arts and Humanities',\n",
       " 'Environmental Science',\n",
       " 'Energy',\n",
       " 'Mathematics',\n",
       " 'Immunology and Microbiology',\n",
       " 'Engineering',\n",
       " 'Computer Science',\n",
       " 'Neuroscience',\n",
       " 'Pharmacology, Toxicology and Pharmaceutics',\n",
       " 'Chemical Engineering',\n",
       " 'Social Sciences',\n",
       " 'Chemistry',\n",
       " 'Agricultural and Biological Sciences',\n",
       " 'Veterinary',\n",
       " 'Nursing',\n",
       " 'Business, Management and Accounting',\n",
       " 'Economics, Econometrics and Finance',\n",
       " 'Multidisciplinary',\n",
       " 'Physics and Astronomy',\n",
       " 'Medicine',\n",
       " 'Materials Science']"
      ]
     },
     "execution_count": 26,
     "metadata": {
      "tags": []
     },
     "output_type": "execute_result"
    }
   ],
   "source": [
    "classes"
   ]
  },
  {
   "cell_type": "code",
   "execution_count": null,
   "metadata": {
    "colab": {
     "base_uri": "https://localhost:8080/"
    },
    "id": "4jNqqZEuhIoa",
    "outputId": "290b3734-4eb5-4b8c-ed44-652b828aa7a0"
   },
   "outputs": [
    {
     "name": "stdout",
     "output_type": "stream",
     "text": [
      "Chemistry ||| ['Chemistry']\n",
      "Computer Science ||| ['Physics and Astronomy']\n",
      "Engineering ||| ['Materials Science', 'Physics and Astronomy', 'Engineering']\n",
      "Physics and Astronomy ||| ['Physics and Astronomy']\n",
      "Materials Science ||| ['Materials Science']\n",
      "Computer Science ||| ['Chemistry', 'Physics and Astronomy', 'Physics and Astronomy', 'Physics and Astronomy', 'Materials Science']\n",
      "Computer Science ||| ['Chemistry', 'Physics and Astronomy', 'Physics and Astronomy', 'Physics and Astronomy', 'Materials Science']\n",
      "Biochemistry, Genetics and Molecular Biology ||| ['Multidisciplinary']\n",
      "Agricultural and Biological Sciences ||| ['Agricultural and Biological Sciences', 'Agricultural and Biological Sciences']\n",
      "Mathematics ||| ['Mathematics', 'Mathematics']\n",
      "Mathematics ||| ['Mathematics', 'Mathematics']\n",
      "Engineering ||| ['Engineering', 'Engineering', 'Materials Science']\n",
      "Business, Management and Accounting ||| ['Engineering', 'Engineering', 'Engineering', 'Engineering', 'Engineering']\n",
      "Engineering ||| ['Engineering', 'Engineering']\n",
      "Engineering ||| ['Computer Science', 'Engineering', 'Mathematics', 'Computer Science', 'Computer Science', 'Computer Science', 'Mathematics']\n",
      "Engineering ||| ['Engineering', 'Engineering']\n",
      "Chemical Engineering ||| ['Materials Science', 'Materials Science', 'Chemistry', 'Materials Science', 'Physics and Astronomy', 'Materials Science']\n",
      "Business, Management and Accounting ||| ['Engineering', 'Engineering']\n",
      "Engineering ||| ['Engineering']\n",
      "Materials Science ||| ['Physics and Astronomy', 'Engineering', 'Engineering']\n",
      "Agricultural and Biological Sciences ||| ['Agricultural and Biological Sciences', 'Agricultural and Biological Sciences']\n",
      "Biochemistry, Genetics and Molecular Biology ||| ['Biochemistry, Genetics and Molecular Biology', 'Materials Science', 'Physics and Astronomy', 'Biochemistry, Genetics and Molecular Biology']\n",
      "Business, Management and Accounting ||| ['Chemical Engineering', 'Materials Science']\n",
      "Business, Management and Accounting ||| ['Engineering', 'Engineering']\n",
      "Business, Management and Accounting ||| ['Multidisciplinary']\n",
      "Energy ||| ['Energy']\n",
      "Business, Management and Accounting ||| ['Environmental Science', 'Environmental Science', 'Environmental Science', 'Environmental Science', 'Environmental Science']\n",
      "Computer Science ||| ['Materials Science', 'Physics and Astronomy']\n",
      "Business, Management and Accounting ||| ['Chemical Engineering', 'Materials Science']\n",
      "Pharmacology, Toxicology and Pharmaceutics ||| ['Pharmacology, Toxicology and Pharmaceutics']\n",
      "Pharmacology, Toxicology and Pharmaceutics ||| ['Pharmacology, Toxicology and Pharmaceutics']\n",
      "Pharmacology, Toxicology and Pharmaceutics ||| ['Pharmacology, Toxicology and Pharmaceutics']\n",
      "Immunology and Microbiology ||| ['Chemistry', 'Biochemistry, Genetics and Molecular Biology', 'Agricultural and Biological Sciences', 'Chemistry']\n",
      "Chemistry ||| ['Chemistry', 'Materials Science', 'Materials Science']\n",
      "Chemistry ||| ['Chemistry', 'Biochemistry, Genetics and Molecular Biology', 'Chemistry']\n",
      "Pharmacology, Toxicology and Pharmaceutics ||| ['Chemistry', 'Chemistry', 'Biochemistry, Genetics and Molecular Biology', 'Pharmacology, Toxicology and Pharmaceutics', 'Pharmacology, Toxicology and Pharmaceutics', 'Chemistry', 'Chemistry']\n",
      "Computer Science ||| ['Materials Science', 'Physics and Astronomy', 'Physics and Astronomy', 'Materials Science', 'Materials Science', 'Engineering', 'Materials Science']\n",
      "Agricultural and Biological Sciences ||| ['Agricultural and Biological Sciences', 'Agricultural and Biological Sciences']\n",
      "Agricultural and Biological Sciences ||| ['Agricultural and Biological Sciences', 'Agricultural and Biological Sciences']\n",
      "Agricultural and Biological Sciences ||| ['Agricultural and Biological Sciences', 'Agricultural and Biological Sciences']\n",
      "Agricultural and Biological Sciences ||| ['Agricultural and Biological Sciences', 'Agricultural and Biological Sciences']\n",
      "Environmental Science ||| ['Chemistry', 'Environmental Science', 'Chemical Engineering', 'Engineering']\n",
      "Biochemistry, Genetics and Molecular Biology ||| ['Biochemistry, Genetics and Molecular Biology', 'Biochemistry, Genetics and Molecular Biology', 'Biochemistry, Genetics and Molecular Biology']\n",
      "Biochemistry, Genetics and Molecular Biology ||| ['Medicine', 'Biochemistry, Genetics and Molecular Biology']\n",
      "Earth and Planetary Sciences ||| ['Earth and Planetary Sciences']\n",
      "Nursing ||| ['Medicine', 'Medicine']\n",
      "Pharmacology, Toxicology and Pharmaceutics ||| ['Medicine']\n",
      "Nursing ||| ['Biochemistry, Genetics and Molecular Biology', 'Medicine']\n",
      "Economics, Econometrics and Finance ||| ['Social Sciences', 'Social Sciences', 'Social Sciences', 'Economics, Econometrics and Finance']\n",
      "Materials Science ||| ['Materials Science', 'Chemistry', 'Chemistry']\n",
      "Energy ||| ['Energy', 'Energy', 'Physics and Astronomy', 'Energy']\n",
      "Chemical Engineering ||| ['Chemical Engineering']\n",
      "Pharmacology, Toxicology and Pharmaceutics ||| ['Biochemistry, Genetics and Molecular Biology', 'Environmental Science']\n",
      "Pharmacology, Toxicology and Pharmaceutics ||| ['Chemistry', 'Chemistry', 'Biochemistry, Genetics and Molecular Biology', 'Pharmacology, Toxicology and Pharmaceutics', 'Pharmacology, Toxicology and Pharmaceutics', 'Chemistry', 'Chemistry']\n",
      "Business, Management and Accounting ||| ['Environmental Science', 'Environmental Science', 'Environmental Science', 'Environmental Science', 'Environmental Science']\n",
      "Materials Science ||| ['Materials Science', 'Chemistry', 'Chemistry']\n",
      "Social Sciences ||| ['Environmental Science']\n",
      "Medicine ||| ['Environmental Science', 'Environmental Science', 'Environmental Science']\n",
      "Business, Management and Accounting ||| ['Materials Science', 'Materials Science', 'Chemical Engineering', 'Materials Science', 'Materials Science']\n",
      "Business, Management and Accounting ||| ['Engineering', 'Engineering', 'Engineering', 'Engineering', 'Engineering']\n",
      "Engineering ||| ['Engineering', 'Engineering', 'Engineering', 'Engineering', 'Engineering']\n",
      "Energy ||| ['Chemical Engineering', 'Materials Science']\n",
      "Business, Management and Accounting ||| ['Materials Science', 'Materials Science', 'Materials Science', 'Materials Science']\n",
      "Engineering ||| ['Engineering', 'Engineering']\n",
      "Engineering ||| ['Engineering', 'Engineering', 'Materials Science', 'Engineering']\n",
      "Chemical Engineering ||| ['Chemistry', 'Physics and Astronomy', 'Physics and Astronomy', 'Physics and Astronomy', 'Materials Science']\n",
      "Agricultural and Biological Sciences ||| ['Agricultural and Biological Sciences']\n",
      "Agricultural and Biological Sciences ||| ['Agricultural and Biological Sciences', 'Environmental Science', 'Agricultural and Biological Sciences', 'Agricultural and Biological Sciences', 'Agricultural and Biological Sciences']\n",
      "Veterinary ||| ['Agricultural and Biological Sciences', 'Veterinary']\n",
      "Pharmacology, Toxicology and Pharmaceutics ||| ['Pharmacology, Toxicology and Pharmaceutics']\n",
      "Biochemistry, Genetics and Molecular Biology ||| ['Medicine', 'Biochemistry, Genetics and Molecular Biology']\n",
      "Pharmacology, Toxicology and Pharmaceutics ||| ['Pharmacology, Toxicology and Pharmaceutics', 'Agricultural and Biological Sciences', 'Pharmacology, Toxicology and Pharmaceutics', 'Medicine']\n",
      "Agricultural and Biological Sciences ||| ['Biochemistry, Genetics and Molecular Biology', 'Biochemistry, Genetics and Molecular Biology']\n",
      "Mathematics ||| ['Mathematics', 'Mathematics']\n",
      "Mathematics ||| ['Engineering', 'Mathematics', 'Mathematics', 'Mathematics']\n",
      "Agricultural and Biological Sciences ||| ['Agricultural and Biological Sciences', 'Agricultural and Biological Sciences']\n",
      "Materials Science ||| ['Materials Science', 'Physics and Astronomy']\n",
      "Pharmacology, Toxicology and Pharmaceutics ||| ['Pharmacology, Toxicology and Pharmaceutics']\n",
      "Biochemistry, Genetics and Molecular Biology ||| ['Biochemistry, Genetics and Molecular Biology', 'Biochemistry, Genetics and Molecular Biology', 'Biochemistry, Genetics and Molecular Biology', 'Economics, Econometrics and Finance', 'Energy']\n",
      "Business, Management and Accounting ||| ['Environmental Science', 'Environmental Science', 'Environmental Science']\n",
      "Computer Science ||| ['Computer Science', 'Mathematics']\n",
      "Chemistry ||| ['Chemistry', 'Materials Science', 'Materials Science']\n",
      "Pharmacology, Toxicology and Pharmaceutics ||| ['Chemistry', 'Chemistry', 'Biochemistry, Genetics and Molecular Biology', 'Pharmacology, Toxicology and Pharmaceutics', 'Pharmacology, Toxicology and Pharmaceutics', 'Chemistry', 'Chemistry']\n",
      "Agricultural and Biological Sciences ||| ['Agricultural and Biological Sciences']\n",
      "Environmental Science ||| ['Environmental Science', 'Immunology and Microbiology', 'Environmental Science', 'Environmental Science', 'Environmental Science', 'Medicine', 'Environmental Science']\n",
      "Business, Management and Accounting ||| ['Materials Science', 'Materials Science', 'Chemical Engineering', 'Materials Science', 'Materials Science']\n",
      "Business, Management and Accounting ||| ['Materials Science', 'Engineering']\n",
      "Materials Science ||| ['Materials Science', 'Physics and Astronomy']\n",
      "Business, Management and Accounting ||| ['Environmental Science']\n",
      "Business, Management and Accounting ||| ['Chemistry', 'Chemical Engineering', 'Chemistry']\n",
      "Chemical Engineering ||| ['Chemistry']\n",
      "Earth and Planetary Sciences ||| ['Earth and Planetary Sciences', 'Earth and Planetary Sciences', 'Earth and Planetary Sciences']\n",
      "Earth and Planetary Sciences ||| ['Earth and Planetary Sciences', 'Earth and Planetary Sciences', 'Earth and Planetary Sciences']\n",
      "Environmental Science ||| ['Chemistry', 'Energy', 'Medicine', 'Environmental Science', 'Chemistry', 'Medicine', 'Environmental Science']\n",
      "Energy ||| ['Chemistry', 'Energy', 'Medicine', 'Environmental Science', 'Chemistry', 'Medicine', 'Environmental Science']\n",
      "Pharmacology, Toxicology and Pharmaceutics ||| ['Agricultural and Biological Sciences', 'Immunology and Microbiology', 'Social Sciences', 'Health Professions', 'Agricultural and Biological Sciences']\n",
      "Engineering ||| ['Materials Science', 'Engineering', 'Engineering']\n",
      "Physics and Astronomy ||| ['Materials Science', 'Physics and Astronomy']\n",
      "Biochemistry, Genetics and Molecular Biology ||| ['Biochemistry, Genetics and Molecular Biology', 'Biochemistry, Genetics and Molecular Biology']\n",
      "Mathematics ||| ['Mathematics']\n",
      "Agricultural and Biological Sciences ||| ['Agricultural and Biological Sciences', 'Agricultural and Biological Sciences']\n",
      "Materials Science ||| ['Materials Science']\n",
      "Energy ||| ['Physics and Astronomy', 'Physics and Astronomy', 'Medicine']\n",
      "Business, Management and Accounting ||| ['Engineering', 'Engineering', 'Engineering', 'Engineering']\n",
      "Chemical Engineering ||| ['Chemistry', 'Chemical Engineering']\n",
      "Business, Management and Accounting ||| ['Engineering', 'Engineering', 'Engineering', 'Engineering', 'Engineering']\n",
      "Engineering ||| ['Engineering', 'Engineering', 'Physics and Astronomy']\n",
      "Engineering ||| ['Engineering', 'Physics and Astronomy']\n",
      "Engineering ||| ['Multidisciplinary']\n",
      "Earth and Planetary Sciences ||| ['Energy', 'Earth and Planetary Sciences', 'Earth and Planetary Sciences', 'Earth and Planetary Sciences']\n",
      "Economics, Econometrics and Finance ||| ['Energy', 'Economics, Econometrics and Finance']\n",
      "Business, Management and Accounting ||| ['Energy', 'Economics, Econometrics and Finance']\n",
      "Environmental Science ||| ['Environmental Science']\n",
      "Environmental Science ||| ['Environmental Science', 'Environmental Science', 'Environmental Science', 'Environmental Science', 'Environmental Science']\n",
      "Chemistry ||| ['Chemistry']\n",
      "Energy ||| ['Energy']\n",
      "Business, Management and Accounting ||| ['Engineering', 'Engineering', 'Materials Science']\n",
      "Business, Management and Accounting ||| ['Engineering', 'Engineering', 'Materials Science']\n",
      "Business, Management and Accounting ||| ['Engineering', 'Engineering', 'Materials Science']\n",
      "Engineering ||| ['Engineering', 'Engineering', 'Materials Science', 'Engineering']\n",
      "Pharmacology, Toxicology and Pharmaceutics ||| ['Chemistry', 'Biochemistry, Genetics and Molecular Biology', 'Pharmacology, Toxicology and Pharmaceutics', 'Pharmacology, Toxicology and Pharmaceutics', 'Pharmacology, Toxicology and Pharmaceutics', 'Medicine', 'Chemistry']\n",
      "Biochemistry, Genetics and Molecular Biology ||| ['Biochemistry, Genetics and Molecular Biology', 'Biochemistry, Genetics and Molecular Biology', 'Biochemistry, Genetics and Molecular Biology']\n",
      "Engineering ||| ['Engineering', 'Engineering', 'Materials Science']\n",
      "Social Sciences ||| ['Earth and Planetary Sciences', 'Engineering']\n",
      "Social Sciences ||| ['Arts and Humanities', 'Social Sciences']\n",
      "Engineering ||| ['Engineering', 'Mathematics', 'Mathematics', 'Mathematics']\n",
      "Mathematics ||| ['Mathematics']\n",
      "Chemistry ||| ['Chemistry', 'Chemistry', 'Biochemistry, Genetics and Molecular Biology', 'Pharmacology, Toxicology and Pharmaceutics', 'Pharmacology, Toxicology and Pharmaceutics', 'Chemistry', 'Chemistry']\n",
      "Business, Management and Accounting ||| ['Energy', 'Economics, Econometrics and Finance']\n",
      "Economics, Econometrics and Finance ||| ['Energy', 'Economics, Econometrics and Finance']\n",
      "Computer Science ||| ['Computer Science', 'Engineering', 'Mathematics', 'Computer Science', 'Computer Science', 'Computer Science', 'Mathematics']\n",
      "Physics and Astronomy ||| ['Physics and Astronomy', 'Physics and Astronomy']\n",
      "Pharmacology, Toxicology and Pharmaceutics ||| ['Biochemistry, Genetics and Molecular Biology']\n",
      "Engineering ||| ['Engineering', 'Mathematics']\n",
      "Mathematics ||| ['Mathematics']\n",
      "Mathematics ||| ['Mathematics']\n",
      "Arts and Humanities ||| ['Arts and Humanities']\n",
      "Pharmacology, Toxicology and Pharmaceutics ||| ['Pharmacology, Toxicology and Pharmaceutics']\n",
      "Neuroscience ||| ['Neuroscience']\n",
      "Psychology ||| ['Psychology', 'Neuroscience', 'Medicine']\n",
      "Biochemistry, Genetics and Molecular Biology ||| ['Multidisciplinary']\n",
      "Business, Management and Accounting ||| ['Chemistry', 'Environmental Science', 'Chemical Engineering', 'Energy']\n",
      "Arts and Humanities ||| ['Arts and Humanities']\n",
      "Earth and Planetary Sciences ||| ['Earth and Planetary Sciences']\n",
      "Earth and Planetary Sciences ||| ['Earth and Planetary Sciences', 'Earth and Planetary Sciences']\n",
      "Psychology ||| ['Neuroscience']\n",
      "Computer Science ||| ['Computer Science', 'Computer Science', 'Social Sciences', 'Business, Management and Accounting', 'Decision Sciences', 'Business, Management and Accounting']\n",
      "Computer Science ||| ['Mathematics', 'Biochemistry, Genetics and Molecular Biology', 'Immunology and Microbiology', 'Mathematics']\n",
      "Psychology ||| ['Psychology', 'Psychology']\n",
      "Engineering ||| ['Engineering', 'Engineering', 'Materials Science', 'Engineering']\n",
      "Business, Management and Accounting ||| ['Materials Science']\n",
      "Engineering ||| ['Computer Science', 'Chemistry', 'Mathematics', 'Physics and Astronomy']\n",
      "Pharmacology, Toxicology and Pharmaceutics ||| ['Medicine', 'Biochemistry, Genetics and Molecular Biology', 'Biochemistry, Genetics and Molecular Biology']\n",
      "Nursing ||| ['Biochemistry, Genetics and Molecular Biology', 'Environmental Science']\n",
      "Engineering ||| ['Environmental Science', 'Agricultural and Biological Sciences']\n",
      "Environmental Science ||| ['Chemistry']\n",
      "Engineering ||| ['Multidisciplinary']\n",
      "Engineering ||| ['Mathematics', 'Biochemistry, Genetics and Molecular Biology', 'Immunology and Microbiology', 'Mathematics']\n",
      "Mathematics ||| ['Mathematics', 'Mathematics', 'Mathematics']\n",
      "Mathematics ||| ['Mathematics', 'Mathematics']\n",
      "Mathematics ||| ['Mathematics', 'Mathematics']\n",
      "Mathematics ||| ['Mathematics']\n",
      "Materials Science ||| ['Chemistry', 'Materials Science', 'Physics and Astronomy', 'Engineering', 'Engineering']\n",
      "Pharmacology, Toxicology and Pharmaceutics ||| ['Pharmacology, Toxicology and Pharmaceutics']\n",
      "Mathematics ||| ['Mathematics']\n",
      "Mathematics ||| ['Mathematics']\n",
      "Mathematics ||| ['Mathematics']\n",
      "Mathematics ||| ['Mathematics', 'Mathematics']\n",
      "Business, Management and Accounting ||| ['Chemical Engineering', 'Chemical Engineering']\n",
      "Immunology and Microbiology ||| ['Medicine', 'Biochemistry, Genetics and Molecular Biology']\n",
      "Biochemistry, Genetics and Molecular Biology ||| ['Immunology and Microbiology', 'Medicine']\n",
      "Immunology and Microbiology ||| ['Medicine', 'Biochemistry, Genetics and Molecular Biology']\n",
      "Pharmacology, Toxicology and Pharmaceutics ||| ['Pharmacology, Toxicology and Pharmaceutics', 'Environmental Science']\n",
      "Engineering ||| ['Engineering', 'Engineering', 'Computer Science']\n",
      "Business, Management and Accounting ||| ['Chemistry', 'Environmental Science']\n",
      "Chemistry ||| ['Chemical Engineering', 'Materials Science']\n",
      "Physics and Astronomy ||| ['Materials Science', 'Physics and Astronomy']\n",
      "Earth and Planetary Sciences ||| ['Earth and Planetary Sciences', 'Agricultural and Biological Sciences', 'Earth and Planetary Sciences', 'Earth and Planetary Sciences']\n",
      "Pharmacology, Toxicology and Pharmaceutics ||| ['Pharmacology, Toxicology and Pharmaceutics']\n",
      "Agricultural and Biological Sciences ||| ['Agricultural and Biological Sciences', 'Agricultural and Biological Sciences']\n",
      "Social Sciences ||| ['Environmental Science', 'Environmental Science', 'Environmental Science', 'Environmental Science', 'Earth and Planetary Sciences']\n",
      "Mathematics ||| ['Mathematics']\n",
      "Economics, Econometrics and Finance ||| ['Social Sciences', 'Economics, Econometrics and Finance']\n",
      "Materials Science ||| ['Materials Science', 'Engineering', 'Engineering', 'Materials Science', 'Materials Science']\n",
      "Mathematics ||| ['Mathematics']\n",
      "Pharmacology, Toxicology and Pharmaceutics ||| ['Chemistry', 'Chemistry', 'Biochemistry, Genetics and Molecular Biology', 'Pharmacology, Toxicology and Pharmaceutics', 'Pharmacology, Toxicology and Pharmaceutics', 'Chemistry', 'Chemistry']\n",
      "Multidisciplinary ||| ['Physics and Astronomy', 'Earth and Planetary Sciences']\n",
      "Multidisciplinary ||| ['Physics and Astronomy', 'Earth and Planetary Sciences']\n",
      "Pharmacology, Toxicology and Pharmaceutics ||| ['Pharmacology, Toxicology and Pharmaceutics']\n",
      "Business, Management and Accounting ||| ['Engineering', 'Engineering', 'Engineering', 'Engineering']\n",
      "Materials Science ||| ['Materials Science']\n",
      "Engineering ||| ['Chemical Engineering', 'Materials Science', 'Physics and Astronomy', 'Chemistry']\n",
      "Engineering ||| ['Materials Science']\n",
      "Engineering ||| ['Mathematics', 'Mathematics']\n",
      "Agricultural and Biological Sciences ||| ['Agricultural and Biological Sciences']\n",
      "Agricultural and Biological Sciences ||| ['Agricultural and Biological Sciences']\n",
      "Agricultural and Biological Sciences ||| ['Agricultural and Biological Sciences', 'Agricultural and Biological Sciences']\n",
      "Mathematics ||| ['Mathematics']\n",
      "Chemical Engineering ||| ['Materials Science', 'Engineering']\n",
      "Materials Science ||| ['Materials Science', 'Chemistry', 'Chemistry']\n",
      "Engineering ||| ['Materials Science', 'Physics and Astronomy']\n",
      "Business, Management and Accounting ||| ['Materials Science', 'Materials Science', 'Chemical Engineering', 'Materials Science', 'Materials Science']\n",
      "Social Sciences ||| ['Social Sciences', 'Social Sciences']\n",
      "Multidisciplinary ||| ['Physics and Astronomy', 'Earth and Planetary Sciences']\n",
      "Biochemistry, Genetics and Molecular Biology ||| ['Medicine', 'Biochemistry, Genetics and Molecular Biology']\n",
      "Chemical Engineering ||| ['Chemistry']\n",
      "Business, Management and Accounting ||| ['Environmental Science', 'Environmental Science']\n",
      "Engineering ||| ['Engineering', 'Mathematics', 'Computer Science']\n",
      "Mathematics ||| ['Mathematics']\n",
      "Engineering ||| ['Pharmacology, Toxicology and Pharmaceutics']\n",
      "Computer Science ||| ['Chemical Engineering', 'Biochemistry, Genetics and Molecular Biology', 'Chemistry', 'Computer Science', 'Chemistry', 'Chemistry', 'Chemistry']\n",
      "Engineering ||| ['Medicine']\n",
      "Biochemistry, Genetics and Molecular Biology ||| ['Neuroscience']\n",
      "Medicine ||| ['Multidisciplinary']\n",
      "Biochemistry, Genetics and Molecular Biology ||| ['Biochemistry, Genetics and Molecular Biology', 'Biochemistry, Genetics and Molecular Biology', 'Biochemistry, Genetics and Molecular Biology', 'Economics, Econometrics and Finance', 'Energy']\n",
      "Immunology and Microbiology ||| ['Medicine', 'Immunology and Microbiology']\n",
      "Pharmacology, Toxicology and Pharmaceutics ||| ['Pharmacology, Toxicology and Pharmaceutics', 'Pharmacology, Toxicology and Pharmaceutics']\n",
      "Engineering ||| ['Chemistry']\n",
      "Materials Science ||| ['Materials Science']\n",
      "Earth and Planetary Sciences ||| ['Earth and Planetary Sciences', 'Earth and Planetary Sciences']\n",
      "Engineering ||| ['Engineering', 'Physics and Astronomy']\n",
      "Pharmacology, Toxicology and Pharmaceutics ||| ['Pharmacology, Toxicology and Pharmaceutics']\n",
      "Engineering ||| ['Materials Science', 'Physics and Astronomy', 'Engineering', 'Materials Science']\n",
      "Materials Science ||| ['Materials Science', 'Physics and Astronomy', 'Engineering', 'Engineering']\n",
      "Computer Science ||| ['Engineering', 'Physics and Astronomy']\n",
      "Engineering ||| ['Engineering', 'Physics and Astronomy']\n",
      "Materials Science ||| ['Materials Science', 'Physics and Astronomy']\n",
      "Business, Management and Accounting ||| ['Engineering', 'Engineering', 'Materials Science', 'Materials Science']\n",
      "Mathematics ||| ['Mathematics']\n",
      "Engineering ||| ['Physics and Astronomy']\n",
      "Social Sciences ||| ['Arts and Humanities', 'Physics and Astronomy']\n",
      "Agricultural and Biological Sciences ||| ['Agricultural and Biological Sciences', 'Agricultural and Biological Sciences']\n",
      "Agricultural and Biological Sciences ||| ['Agricultural and Biological Sciences', 'Agricultural and Biological Sciences']\n",
      "Materials Science ||| ['Materials Science', 'Physics and Astronomy']\n",
      "Earth and Planetary Sciences ||| ['Earth and Planetary Sciences']\n",
      "Computer Science ||| ['Chemical Engineering', 'Biochemistry, Genetics and Molecular Biology', 'Chemistry', 'Computer Science', 'Chemistry', 'Chemistry', 'Chemistry']\n",
      "Immunology and Microbiology ||| ['Biochemistry, Genetics and Molecular Biology', 'Chemical Engineering', 'Medicine', 'Engineering']\n",
      "Pharmacology, Toxicology and Pharmaceutics ||| ['Chemistry', 'Social Sciences', 'Health Professions', 'Multidisciplinary']\n",
      "Agricultural and Biological Sciences ||| ['Immunology and Microbiology', 'Agricultural and Biological Sciences', 'Medicine']\n",
      "Pharmacology, Toxicology and Pharmaceutics ||| ['Biochemistry, Genetics and Molecular Biology', 'Agricultural and Biological Sciences', 'Chemistry', 'Biochemistry, Genetics and Molecular Biology', 'Engineering']\n",
      "Biochemistry, Genetics and Molecular Biology ||| ['Agricultural and Biological Sciences']\n",
      "Materials Science ||| ['Physics and Astronomy', 'Materials Science', 'Physics and Astronomy']\n",
      "Business, Management and Accounting ||| ['Materials Science', 'Engineering', 'Engineering', 'Materials Science', 'Materials Science', 'Materials Science']\n",
      "Energy ||| ['Physics and Astronomy', 'Chemistry']\n",
      "Chemistry ||| ['Chemistry', 'Materials Science', 'Materials Science']\n",
      "Chemistry ||| ['Materials Science', 'Physics and Astronomy']\n",
      "Biochemistry, Genetics and Molecular Biology ||| ['Medicine', 'Biochemistry, Genetics and Molecular Biology']\n",
      "Biochemistry, Genetics and Molecular Biology ||| ['Multidisciplinary']\n",
      "Arts and Humanities ||| ['Social Sciences', 'Arts and Humanities']\n",
      "Business, Management and Accounting ||| ['Biochemistry, Genetics and Molecular Biology', 'Chemical Engineering', 'Engineering']\n",
      "Physics and Astronomy ||| ['Chemistry', 'Physics and Astronomy', 'Physics and Astronomy', 'Physics and Astronomy', 'Materials Science']\n",
      "Physics and Astronomy ||| ['Materials Science', 'Physics and Astronomy']\n",
      "Chemistry ||| ['Chemistry', 'Chemistry', 'Materials Science']\n",
      "Engineering ||| ['Chemistry', 'Physics and Astronomy', 'Physics and Astronomy', 'Physics and Astronomy', 'Materials Science']\n",
      "Environmental Science ||| ['Chemistry', 'Chemical Engineering', 'Materials Science']\n",
      "Business, Management and Accounting ||| ['Materials Science', 'Engineering']\n",
      "Business, Management and Accounting ||| ['Materials Science']\n",
      "Engineering ||| ['Physics and Astronomy', 'Materials Science', 'Physics and Astronomy']\n",
      "Energy ||| ['Chemistry', 'Chemical Engineering', 'Materials Science']\n",
      "Materials Science ||| ['Physics and Astronomy', 'Materials Science', 'Physics and Astronomy']\n",
      "Materials Science ||| ['Physics and Astronomy', 'Materials Science', 'Physics and Astronomy']\n",
      "Engineering ||| ['Physics and Astronomy', 'Materials Science', 'Physics and Astronomy']\n",
      "Chemical Engineering ||| ['Materials Science']\n",
      "Arts and Humanities ||| ['Arts and Humanities', 'Social Sciences']\n",
      "Chemistry ||| ['Chemistry', 'Chemistry', 'Chemistry', 'Chemistry']\n",
      "Business, Management and Accounting ||| ['Materials Science', 'Engineering', 'Engineering']\n",
      "Biochemistry, Genetics and Molecular Biology ||| ['Biochemistry, Genetics and Molecular Biology', 'Biochemistry, Genetics and Molecular Biology']\n",
      "Business, Management and Accounting ||| ['Chemistry', 'Engineering', 'Materials Science', 'Materials Science']\n",
      "Energy ||| ['Social Sciences', 'Energy', 'Energy']\n"
     ]
    }
   ],
   "source": [
    "for ind in range(len(y_pred)):\n",
    " print(y_pred[ind], '|||', df_motivation['general_subj'][ind])"
   ]
  },
  {
   "cell_type": "code",
   "execution_count": 4,
   "metadata": {
    "ExecuteTime": {
     "end_time": "2021-04-14T18:59:12.136732Z",
     "start_time": "2021-04-14T18:58:58.122513Z"
    },
    "id": "ZPUoLrnHjZ1e"
   },
   "outputs": [
    {
     "ename": "KeyboardInterrupt",
     "evalue": "",
     "output_type": "error",
     "traceback": [
      "\u001b[1;31m---------------------------------------------------------------------------\u001b[0m",
      "\u001b[1;31mKeyboardInterrupt\u001b[0m                         Traceback (most recent call last)",
      "\u001b[1;32m<ipython-input-4-948c5d11d4c8>\u001b[0m in \u001b[0;36m<module>\u001b[1;34m\u001b[0m\n\u001b[0;32m      1\u001b[0m \u001b[1;31m# 20newsgroups\u001b[0m\u001b[1;33m\u001b[0m\u001b[1;33m\u001b[0m\u001b[1;33m\u001b[0m\u001b[0m\n\u001b[0;32m      2\u001b[0m \u001b[0mremove\u001b[0m \u001b[1;33m=\u001b[0m \u001b[1;33m(\u001b[0m\u001b[1;34m'headers'\u001b[0m\u001b[1;33m,\u001b[0m \u001b[1;34m'footers'\u001b[0m\u001b[1;33m,\u001b[0m \u001b[1;34m'quotes'\u001b[0m\u001b[1;33m)\u001b[0m\u001b[1;33m\u001b[0m\u001b[1;33m\u001b[0m\u001b[0m\n\u001b[1;32m----> 3\u001b[1;33m \u001b[0mnewsgroups_train\u001b[0m \u001b[1;33m=\u001b[0m \u001b[0mfetch_20newsgroups\u001b[0m\u001b[1;33m(\u001b[0m\u001b[0msubset\u001b[0m\u001b[1;33m=\u001b[0m\u001b[1;34m'train'\u001b[0m\u001b[1;33m,\u001b[0m \u001b[0mremove\u001b[0m\u001b[1;33m=\u001b[0m\u001b[0mremove\u001b[0m\u001b[1;33m)\u001b[0m\u001b[1;33m\u001b[0m\u001b[1;33m\u001b[0m\u001b[0m\n\u001b[0m\u001b[0;32m      4\u001b[0m \u001b[0mnewsgroups_test\u001b[0m \u001b[1;33m=\u001b[0m \u001b[0mfetch_20newsgroups\u001b[0m\u001b[1;33m(\u001b[0m\u001b[0msubset\u001b[0m\u001b[1;33m=\u001b[0m\u001b[1;34m'test'\u001b[0m\u001b[1;33m,\u001b[0m \u001b[0mremove\u001b[0m\u001b[1;33m=\u001b[0m\u001b[0mremove\u001b[0m\u001b[1;33m)\u001b[0m\u001b[1;33m\u001b[0m\u001b[1;33m\u001b[0m\u001b[0m\n\u001b[0;32m      5\u001b[0m \u001b[0mtexts\u001b[0m \u001b[1;33m=\u001b[0m \u001b[0mnewsgroups_train\u001b[0m\u001b[1;33m.\u001b[0m\u001b[0mdata\u001b[0m \u001b[1;33m+\u001b[0m  \u001b[0mnewsgroups_test\u001b[0m\u001b[1;33m.\u001b[0m\u001b[0mdata\u001b[0m\u001b[1;33m\u001b[0m\u001b[1;33m\u001b[0m\u001b[0m\n",
      "\u001b[1;32m~\\anaconda3\\lib\\site-packages\\sklearn\\utils\\validation.py\u001b[0m in \u001b[0;36minner_f\u001b[1;34m(*args, **kwargs)\u001b[0m\n\u001b[0;32m     70\u001b[0m                           FutureWarning)\n\u001b[0;32m     71\u001b[0m         \u001b[0mkwargs\u001b[0m\u001b[1;33m.\u001b[0m\u001b[0mupdate\u001b[0m\u001b[1;33m(\u001b[0m\u001b[1;33m{\u001b[0m\u001b[0mk\u001b[0m\u001b[1;33m:\u001b[0m \u001b[0marg\u001b[0m \u001b[1;32mfor\u001b[0m \u001b[0mk\u001b[0m\u001b[1;33m,\u001b[0m \u001b[0marg\u001b[0m \u001b[1;32min\u001b[0m \u001b[0mzip\u001b[0m\u001b[1;33m(\u001b[0m\u001b[0msig\u001b[0m\u001b[1;33m.\u001b[0m\u001b[0mparameters\u001b[0m\u001b[1;33m,\u001b[0m \u001b[0margs\u001b[0m\u001b[1;33m)\u001b[0m\u001b[1;33m}\u001b[0m\u001b[1;33m)\u001b[0m\u001b[1;33m\u001b[0m\u001b[1;33m\u001b[0m\u001b[0m\n\u001b[1;32m---> 72\u001b[1;33m         \u001b[1;32mreturn\u001b[0m \u001b[0mf\u001b[0m\u001b[1;33m(\u001b[0m\u001b[1;33m**\u001b[0m\u001b[0mkwargs\u001b[0m\u001b[1;33m)\u001b[0m\u001b[1;33m\u001b[0m\u001b[1;33m\u001b[0m\u001b[0m\n\u001b[0m\u001b[0;32m     73\u001b[0m     \u001b[1;32mreturn\u001b[0m \u001b[0minner_f\u001b[0m\u001b[1;33m\u001b[0m\u001b[1;33m\u001b[0m\u001b[0m\n\u001b[0;32m     74\u001b[0m \u001b[1;33m\u001b[0m\u001b[0m\n",
      "\u001b[1;32m~\\anaconda3\\lib\\site-packages\\sklearn\\datasets\\_twenty_newsgroups.py\u001b[0m in \u001b[0;36mfetch_20newsgroups\u001b[1;34m(data_home, subset, categories, shuffle, random_state, remove, download_if_missing, return_X_y)\u001b[0m\n\u001b[0;32m    256\u001b[0m             logger.info(\"Downloading 20news dataset. \"\n\u001b[0;32m    257\u001b[0m                         \"This may take a few minutes.\")\n\u001b[1;32m--> 258\u001b[1;33m             cache = _download_20newsgroups(target_dir=twenty_home,\n\u001b[0m\u001b[0;32m    259\u001b[0m                                            cache_path=cache_path)\n\u001b[0;32m    260\u001b[0m         \u001b[1;32melse\u001b[0m\u001b[1;33m:\u001b[0m\u001b[1;33m\u001b[0m\u001b[1;33m\u001b[0m\u001b[0m\n",
      "\u001b[1;32m~\\anaconda3\\lib\\site-packages\\sklearn\\datasets\\_twenty_newsgroups.py\u001b[0m in \u001b[0;36m_download_20newsgroups\u001b[1;34m(target_dir, cache_path)\u001b[0m\n\u001b[0;32m     72\u001b[0m \u001b[1;33m\u001b[0m\u001b[0m\n\u001b[0;32m     73\u001b[0m     \u001b[0mlogger\u001b[0m\u001b[1;33m.\u001b[0m\u001b[0minfo\u001b[0m\u001b[1;33m(\u001b[0m\u001b[1;34m\"Downloading dataset from %s (14 MB)\"\u001b[0m\u001b[1;33m,\u001b[0m \u001b[0mARCHIVE\u001b[0m\u001b[1;33m.\u001b[0m\u001b[0murl\u001b[0m\u001b[1;33m)\u001b[0m\u001b[1;33m\u001b[0m\u001b[1;33m\u001b[0m\u001b[0m\n\u001b[1;32m---> 74\u001b[1;33m     \u001b[0marchive_path\u001b[0m \u001b[1;33m=\u001b[0m \u001b[0m_fetch_remote\u001b[0m\u001b[1;33m(\u001b[0m\u001b[0mARCHIVE\u001b[0m\u001b[1;33m,\u001b[0m \u001b[0mdirname\u001b[0m\u001b[1;33m=\u001b[0m\u001b[0mtarget_dir\u001b[0m\u001b[1;33m)\u001b[0m\u001b[1;33m\u001b[0m\u001b[1;33m\u001b[0m\u001b[0m\n\u001b[0m\u001b[0;32m     75\u001b[0m \u001b[1;33m\u001b[0m\u001b[0m\n\u001b[0;32m     76\u001b[0m     \u001b[0mlogger\u001b[0m\u001b[1;33m.\u001b[0m\u001b[0mdebug\u001b[0m\u001b[1;33m(\u001b[0m\u001b[1;34m\"Decompressing %s\"\u001b[0m\u001b[1;33m,\u001b[0m \u001b[0marchive_path\u001b[0m\u001b[1;33m)\u001b[0m\u001b[1;33m\u001b[0m\u001b[1;33m\u001b[0m\u001b[0m\n",
      "\u001b[1;32m~\\anaconda3\\lib\\site-packages\\sklearn\\datasets\\_base.py\u001b[0m in \u001b[0;36m_fetch_remote\u001b[1;34m(remote, dirname)\u001b[0m\n\u001b[0;32m   1179\u001b[0m     file_path = (remote.filename if dirname is None\n\u001b[0;32m   1180\u001b[0m                  else join(dirname, remote.filename))\n\u001b[1;32m-> 1181\u001b[1;33m     \u001b[0murlretrieve\u001b[0m\u001b[1;33m(\u001b[0m\u001b[0mremote\u001b[0m\u001b[1;33m.\u001b[0m\u001b[0murl\u001b[0m\u001b[1;33m,\u001b[0m \u001b[0mfile_path\u001b[0m\u001b[1;33m)\u001b[0m\u001b[1;33m\u001b[0m\u001b[1;33m\u001b[0m\u001b[0m\n\u001b[0m\u001b[0;32m   1182\u001b[0m     \u001b[0mchecksum\u001b[0m \u001b[1;33m=\u001b[0m \u001b[0m_sha256\u001b[0m\u001b[1;33m(\u001b[0m\u001b[0mfile_path\u001b[0m\u001b[1;33m)\u001b[0m\u001b[1;33m\u001b[0m\u001b[1;33m\u001b[0m\u001b[0m\n\u001b[0;32m   1183\u001b[0m     \u001b[1;32mif\u001b[0m \u001b[0mremote\u001b[0m\u001b[1;33m.\u001b[0m\u001b[0mchecksum\u001b[0m \u001b[1;33m!=\u001b[0m \u001b[0mchecksum\u001b[0m\u001b[1;33m:\u001b[0m\u001b[1;33m\u001b[0m\u001b[1;33m\u001b[0m\u001b[0m\n",
      "\u001b[1;32m~\\anaconda3\\lib\\urllib\\request.py\u001b[0m in \u001b[0;36murlretrieve\u001b[1;34m(url, filename, reporthook, data)\u001b[0m\n\u001b[0;32m    274\u001b[0m \u001b[1;33m\u001b[0m\u001b[0m\n\u001b[0;32m    275\u001b[0m             \u001b[1;32mwhile\u001b[0m \u001b[1;32mTrue\u001b[0m\u001b[1;33m:\u001b[0m\u001b[1;33m\u001b[0m\u001b[1;33m\u001b[0m\u001b[0m\n\u001b[1;32m--> 276\u001b[1;33m                 \u001b[0mblock\u001b[0m \u001b[1;33m=\u001b[0m \u001b[0mfp\u001b[0m\u001b[1;33m.\u001b[0m\u001b[0mread\u001b[0m\u001b[1;33m(\u001b[0m\u001b[0mbs\u001b[0m\u001b[1;33m)\u001b[0m\u001b[1;33m\u001b[0m\u001b[1;33m\u001b[0m\u001b[0m\n\u001b[0m\u001b[0;32m    277\u001b[0m                 \u001b[1;32mif\u001b[0m \u001b[1;32mnot\u001b[0m \u001b[0mblock\u001b[0m\u001b[1;33m:\u001b[0m\u001b[1;33m\u001b[0m\u001b[1;33m\u001b[0m\u001b[0m\n\u001b[0;32m    278\u001b[0m                     \u001b[1;32mbreak\u001b[0m\u001b[1;33m\u001b[0m\u001b[1;33m\u001b[0m\u001b[0m\n",
      "\u001b[1;32m~\\anaconda3\\lib\\http\\client.py\u001b[0m in \u001b[0;36mread\u001b[1;34m(self, amt)\u001b[0m\n\u001b[0;32m    456\u001b[0m             \u001b[1;31m# Amount is given, implement using readinto\u001b[0m\u001b[1;33m\u001b[0m\u001b[1;33m\u001b[0m\u001b[1;33m\u001b[0m\u001b[0m\n\u001b[0;32m    457\u001b[0m             \u001b[0mb\u001b[0m \u001b[1;33m=\u001b[0m \u001b[0mbytearray\u001b[0m\u001b[1;33m(\u001b[0m\u001b[0mamt\u001b[0m\u001b[1;33m)\u001b[0m\u001b[1;33m\u001b[0m\u001b[1;33m\u001b[0m\u001b[0m\n\u001b[1;32m--> 458\u001b[1;33m             \u001b[0mn\u001b[0m \u001b[1;33m=\u001b[0m \u001b[0mself\u001b[0m\u001b[1;33m.\u001b[0m\u001b[0mreadinto\u001b[0m\u001b[1;33m(\u001b[0m\u001b[0mb\u001b[0m\u001b[1;33m)\u001b[0m\u001b[1;33m\u001b[0m\u001b[1;33m\u001b[0m\u001b[0m\n\u001b[0m\u001b[0;32m    459\u001b[0m             \u001b[1;32mreturn\u001b[0m \u001b[0mmemoryview\u001b[0m\u001b[1;33m(\u001b[0m\u001b[0mb\u001b[0m\u001b[1;33m)\u001b[0m\u001b[1;33m[\u001b[0m\u001b[1;33m:\u001b[0m\u001b[0mn\u001b[0m\u001b[1;33m]\u001b[0m\u001b[1;33m.\u001b[0m\u001b[0mtobytes\u001b[0m\u001b[1;33m(\u001b[0m\u001b[1;33m)\u001b[0m\u001b[1;33m\u001b[0m\u001b[1;33m\u001b[0m\u001b[0m\n\u001b[0;32m    460\u001b[0m         \u001b[1;32melse\u001b[0m\u001b[1;33m:\u001b[0m\u001b[1;33m\u001b[0m\u001b[1;33m\u001b[0m\u001b[0m\n",
      "\u001b[1;32m~\\anaconda3\\lib\\http\\client.py\u001b[0m in \u001b[0;36mreadinto\u001b[1;34m(self, b)\u001b[0m\n\u001b[0;32m    500\u001b[0m         \u001b[1;31m# connection, and the user is reading more bytes than will be provided\u001b[0m\u001b[1;33m\u001b[0m\u001b[1;33m\u001b[0m\u001b[1;33m\u001b[0m\u001b[0m\n\u001b[0;32m    501\u001b[0m         \u001b[1;31m# (for example, reading in 1k chunks)\u001b[0m\u001b[1;33m\u001b[0m\u001b[1;33m\u001b[0m\u001b[1;33m\u001b[0m\u001b[0m\n\u001b[1;32m--> 502\u001b[1;33m         \u001b[0mn\u001b[0m \u001b[1;33m=\u001b[0m \u001b[0mself\u001b[0m\u001b[1;33m.\u001b[0m\u001b[0mfp\u001b[0m\u001b[1;33m.\u001b[0m\u001b[0mreadinto\u001b[0m\u001b[1;33m(\u001b[0m\u001b[0mb\u001b[0m\u001b[1;33m)\u001b[0m\u001b[1;33m\u001b[0m\u001b[1;33m\u001b[0m\u001b[0m\n\u001b[0m\u001b[0;32m    503\u001b[0m         \u001b[1;32mif\u001b[0m \u001b[1;32mnot\u001b[0m \u001b[0mn\u001b[0m \u001b[1;32mand\u001b[0m \u001b[0mb\u001b[0m\u001b[1;33m:\u001b[0m\u001b[1;33m\u001b[0m\u001b[1;33m\u001b[0m\u001b[0m\n\u001b[0;32m    504\u001b[0m             \u001b[1;31m# Ideally, we would raise IncompleteRead if the content-length\u001b[0m\u001b[1;33m\u001b[0m\u001b[1;33m\u001b[0m\u001b[1;33m\u001b[0m\u001b[0m\n",
      "\u001b[1;32m~\\anaconda3\\lib\\socket.py\u001b[0m in \u001b[0;36mreadinto\u001b[1;34m(self, b)\u001b[0m\n\u001b[0;32m    667\u001b[0m         \u001b[1;32mwhile\u001b[0m \u001b[1;32mTrue\u001b[0m\u001b[1;33m:\u001b[0m\u001b[1;33m\u001b[0m\u001b[1;33m\u001b[0m\u001b[0m\n\u001b[0;32m    668\u001b[0m             \u001b[1;32mtry\u001b[0m\u001b[1;33m:\u001b[0m\u001b[1;33m\u001b[0m\u001b[1;33m\u001b[0m\u001b[0m\n\u001b[1;32m--> 669\u001b[1;33m                 \u001b[1;32mreturn\u001b[0m \u001b[0mself\u001b[0m\u001b[1;33m.\u001b[0m\u001b[0m_sock\u001b[0m\u001b[1;33m.\u001b[0m\u001b[0mrecv_into\u001b[0m\u001b[1;33m(\u001b[0m\u001b[0mb\u001b[0m\u001b[1;33m)\u001b[0m\u001b[1;33m\u001b[0m\u001b[1;33m\u001b[0m\u001b[0m\n\u001b[0m\u001b[0;32m    670\u001b[0m             \u001b[1;32mexcept\u001b[0m \u001b[0mtimeout\u001b[0m\u001b[1;33m:\u001b[0m\u001b[1;33m\u001b[0m\u001b[1;33m\u001b[0m\u001b[0m\n\u001b[0;32m    671\u001b[0m                 \u001b[0mself\u001b[0m\u001b[1;33m.\u001b[0m\u001b[0m_timeout_occurred\u001b[0m \u001b[1;33m=\u001b[0m \u001b[1;32mTrue\u001b[0m\u001b[1;33m\u001b[0m\u001b[1;33m\u001b[0m\u001b[0m\n",
      "\u001b[1;32m~\\anaconda3\\lib\\ssl.py\u001b[0m in \u001b[0;36mrecv_into\u001b[1;34m(self, buffer, nbytes, flags)\u001b[0m\n\u001b[0;32m   1239\u001b[0m                   \u001b[1;34m\"non-zero flags not allowed in calls to recv_into() on %s\"\u001b[0m \u001b[1;33m%\u001b[0m\u001b[1;33m\u001b[0m\u001b[1;33m\u001b[0m\u001b[0m\n\u001b[0;32m   1240\u001b[0m                   self.__class__)\n\u001b[1;32m-> 1241\u001b[1;33m             \u001b[1;32mreturn\u001b[0m \u001b[0mself\u001b[0m\u001b[1;33m.\u001b[0m\u001b[0mread\u001b[0m\u001b[1;33m(\u001b[0m\u001b[0mnbytes\u001b[0m\u001b[1;33m,\u001b[0m \u001b[0mbuffer\u001b[0m\u001b[1;33m)\u001b[0m\u001b[1;33m\u001b[0m\u001b[1;33m\u001b[0m\u001b[0m\n\u001b[0m\u001b[0;32m   1242\u001b[0m         \u001b[1;32melse\u001b[0m\u001b[1;33m:\u001b[0m\u001b[1;33m\u001b[0m\u001b[1;33m\u001b[0m\u001b[0m\n\u001b[0;32m   1243\u001b[0m             \u001b[1;32mreturn\u001b[0m \u001b[0msuper\u001b[0m\u001b[1;33m(\u001b[0m\u001b[1;33m)\u001b[0m\u001b[1;33m.\u001b[0m\u001b[0mrecv_into\u001b[0m\u001b[1;33m(\u001b[0m\u001b[0mbuffer\u001b[0m\u001b[1;33m,\u001b[0m \u001b[0mnbytes\u001b[0m\u001b[1;33m,\u001b[0m \u001b[0mflags\u001b[0m\u001b[1;33m)\u001b[0m\u001b[1;33m\u001b[0m\u001b[1;33m\u001b[0m\u001b[0m\n",
      "\u001b[1;32m~\\anaconda3\\lib\\ssl.py\u001b[0m in \u001b[0;36mread\u001b[1;34m(self, len, buffer)\u001b[0m\n\u001b[0;32m   1097\u001b[0m         \u001b[1;32mtry\u001b[0m\u001b[1;33m:\u001b[0m\u001b[1;33m\u001b[0m\u001b[1;33m\u001b[0m\u001b[0m\n\u001b[0;32m   1098\u001b[0m             \u001b[1;32mif\u001b[0m \u001b[0mbuffer\u001b[0m \u001b[1;32mis\u001b[0m \u001b[1;32mnot\u001b[0m \u001b[1;32mNone\u001b[0m\u001b[1;33m:\u001b[0m\u001b[1;33m\u001b[0m\u001b[1;33m\u001b[0m\u001b[0m\n\u001b[1;32m-> 1099\u001b[1;33m                 \u001b[1;32mreturn\u001b[0m \u001b[0mself\u001b[0m\u001b[1;33m.\u001b[0m\u001b[0m_sslobj\u001b[0m\u001b[1;33m.\u001b[0m\u001b[0mread\u001b[0m\u001b[1;33m(\u001b[0m\u001b[0mlen\u001b[0m\u001b[1;33m,\u001b[0m \u001b[0mbuffer\u001b[0m\u001b[1;33m)\u001b[0m\u001b[1;33m\u001b[0m\u001b[1;33m\u001b[0m\u001b[0m\n\u001b[0m\u001b[0;32m   1100\u001b[0m             \u001b[1;32melse\u001b[0m\u001b[1;33m:\u001b[0m\u001b[1;33m\u001b[0m\u001b[1;33m\u001b[0m\u001b[0m\n\u001b[0;32m   1101\u001b[0m                 \u001b[1;32mreturn\u001b[0m \u001b[0mself\u001b[0m\u001b[1;33m.\u001b[0m\u001b[0m_sslobj\u001b[0m\u001b[1;33m.\u001b[0m\u001b[0mread\u001b[0m\u001b[1;33m(\u001b[0m\u001b[0mlen\u001b[0m\u001b[1;33m)\u001b[0m\u001b[1;33m\u001b[0m\u001b[1;33m\u001b[0m\u001b[0m\n",
      "\u001b[1;31mKeyboardInterrupt\u001b[0m: "
     ]
    }
   ],
   "source": [
    "remove = ('headers', 'footers', 'quotes')\n",
    "newsgroups_train = fetch_20newsgroups(subset='train', remove=remove)\n",
    "newsgroups_test = fetch_20newsgroups(subset='test', remove=remove)\n",
    "texts = newsgroups_train.data +  newsgroups_test.data"
   ]
  },
  {
   "cell_type": "code",
   "execution_count": 5,
   "metadata": {
    "ExecuteTime": {
     "end_time": "2021-04-14T18:59:41.869913Z",
     "start_time": "2021-04-14T18:59:26.458507Z"
    }
   },
   "outputs": [
    {
     "ename": "KeyboardInterrupt",
     "evalue": "",
     "output_type": "error",
     "traceback": [
      "\u001b[1;31m---------------------------------------------------------------------------\u001b[0m",
      "\u001b[1;31mKeyboardInterrupt\u001b[0m                         Traceback (most recent call last)",
      "\u001b[1;32m<ipython-input-5-04dd128291d2>\u001b[0m in \u001b[0;36m<module>\u001b[1;34m\u001b[0m\n\u001b[1;32m----> 1\u001b[1;33m \u001b[0mnewsgroups_train\u001b[0m \u001b[1;33m=\u001b[0m \u001b[0mfetch_20newsgroups\u001b[0m\u001b[1;33m(\u001b[0m\u001b[0msubset\u001b[0m\u001b[1;33m=\u001b[0m\u001b[1;34m'train'\u001b[0m\u001b[1;33m)\u001b[0m\u001b[1;33m\u001b[0m\u001b[1;33m\u001b[0m\u001b[0m\n\u001b[0m",
      "\u001b[1;32m~\\anaconda3\\lib\\site-packages\\sklearn\\utils\\validation.py\u001b[0m in \u001b[0;36minner_f\u001b[1;34m(*args, **kwargs)\u001b[0m\n\u001b[0;32m     70\u001b[0m                           FutureWarning)\n\u001b[0;32m     71\u001b[0m         \u001b[0mkwargs\u001b[0m\u001b[1;33m.\u001b[0m\u001b[0mupdate\u001b[0m\u001b[1;33m(\u001b[0m\u001b[1;33m{\u001b[0m\u001b[0mk\u001b[0m\u001b[1;33m:\u001b[0m \u001b[0marg\u001b[0m \u001b[1;32mfor\u001b[0m \u001b[0mk\u001b[0m\u001b[1;33m,\u001b[0m \u001b[0marg\u001b[0m \u001b[1;32min\u001b[0m \u001b[0mzip\u001b[0m\u001b[1;33m(\u001b[0m\u001b[0msig\u001b[0m\u001b[1;33m.\u001b[0m\u001b[0mparameters\u001b[0m\u001b[1;33m,\u001b[0m \u001b[0margs\u001b[0m\u001b[1;33m)\u001b[0m\u001b[1;33m}\u001b[0m\u001b[1;33m)\u001b[0m\u001b[1;33m\u001b[0m\u001b[1;33m\u001b[0m\u001b[0m\n\u001b[1;32m---> 72\u001b[1;33m         \u001b[1;32mreturn\u001b[0m \u001b[0mf\u001b[0m\u001b[1;33m(\u001b[0m\u001b[1;33m**\u001b[0m\u001b[0mkwargs\u001b[0m\u001b[1;33m)\u001b[0m\u001b[1;33m\u001b[0m\u001b[1;33m\u001b[0m\u001b[0m\n\u001b[0m\u001b[0;32m     73\u001b[0m     \u001b[1;32mreturn\u001b[0m \u001b[0minner_f\u001b[0m\u001b[1;33m\u001b[0m\u001b[1;33m\u001b[0m\u001b[0m\n\u001b[0;32m     74\u001b[0m \u001b[1;33m\u001b[0m\u001b[0m\n",
      "\u001b[1;32m~\\anaconda3\\lib\\site-packages\\sklearn\\datasets\\_twenty_newsgroups.py\u001b[0m in \u001b[0;36mfetch_20newsgroups\u001b[1;34m(data_home, subset, categories, shuffle, random_state, remove, download_if_missing, return_X_y)\u001b[0m\n\u001b[0;32m    256\u001b[0m             logger.info(\"Downloading 20news dataset. \"\n\u001b[0;32m    257\u001b[0m                         \"This may take a few minutes.\")\n\u001b[1;32m--> 258\u001b[1;33m             cache = _download_20newsgroups(target_dir=twenty_home,\n\u001b[0m\u001b[0;32m    259\u001b[0m                                            cache_path=cache_path)\n\u001b[0;32m    260\u001b[0m         \u001b[1;32melse\u001b[0m\u001b[1;33m:\u001b[0m\u001b[1;33m\u001b[0m\u001b[1;33m\u001b[0m\u001b[0m\n",
      "\u001b[1;32m~\\anaconda3\\lib\\site-packages\\sklearn\\datasets\\_twenty_newsgroups.py\u001b[0m in \u001b[0;36m_download_20newsgroups\u001b[1;34m(target_dir, cache_path)\u001b[0m\n\u001b[0;32m     72\u001b[0m \u001b[1;33m\u001b[0m\u001b[0m\n\u001b[0;32m     73\u001b[0m     \u001b[0mlogger\u001b[0m\u001b[1;33m.\u001b[0m\u001b[0minfo\u001b[0m\u001b[1;33m(\u001b[0m\u001b[1;34m\"Downloading dataset from %s (14 MB)\"\u001b[0m\u001b[1;33m,\u001b[0m \u001b[0mARCHIVE\u001b[0m\u001b[1;33m.\u001b[0m\u001b[0murl\u001b[0m\u001b[1;33m)\u001b[0m\u001b[1;33m\u001b[0m\u001b[1;33m\u001b[0m\u001b[0m\n\u001b[1;32m---> 74\u001b[1;33m     \u001b[0marchive_path\u001b[0m \u001b[1;33m=\u001b[0m \u001b[0m_fetch_remote\u001b[0m\u001b[1;33m(\u001b[0m\u001b[0mARCHIVE\u001b[0m\u001b[1;33m,\u001b[0m \u001b[0mdirname\u001b[0m\u001b[1;33m=\u001b[0m\u001b[0mtarget_dir\u001b[0m\u001b[1;33m)\u001b[0m\u001b[1;33m\u001b[0m\u001b[1;33m\u001b[0m\u001b[0m\n\u001b[0m\u001b[0;32m     75\u001b[0m \u001b[1;33m\u001b[0m\u001b[0m\n\u001b[0;32m     76\u001b[0m     \u001b[0mlogger\u001b[0m\u001b[1;33m.\u001b[0m\u001b[0mdebug\u001b[0m\u001b[1;33m(\u001b[0m\u001b[1;34m\"Decompressing %s\"\u001b[0m\u001b[1;33m,\u001b[0m \u001b[0marchive_path\u001b[0m\u001b[1;33m)\u001b[0m\u001b[1;33m\u001b[0m\u001b[1;33m\u001b[0m\u001b[0m\n",
      "\u001b[1;32m~\\anaconda3\\lib\\site-packages\\sklearn\\datasets\\_base.py\u001b[0m in \u001b[0;36m_fetch_remote\u001b[1;34m(remote, dirname)\u001b[0m\n\u001b[0;32m   1179\u001b[0m     file_path = (remote.filename if dirname is None\n\u001b[0;32m   1180\u001b[0m                  else join(dirname, remote.filename))\n\u001b[1;32m-> 1181\u001b[1;33m     \u001b[0murlretrieve\u001b[0m\u001b[1;33m(\u001b[0m\u001b[0mremote\u001b[0m\u001b[1;33m.\u001b[0m\u001b[0murl\u001b[0m\u001b[1;33m,\u001b[0m \u001b[0mfile_path\u001b[0m\u001b[1;33m)\u001b[0m\u001b[1;33m\u001b[0m\u001b[1;33m\u001b[0m\u001b[0m\n\u001b[0m\u001b[0;32m   1182\u001b[0m     \u001b[0mchecksum\u001b[0m \u001b[1;33m=\u001b[0m \u001b[0m_sha256\u001b[0m\u001b[1;33m(\u001b[0m\u001b[0mfile_path\u001b[0m\u001b[1;33m)\u001b[0m\u001b[1;33m\u001b[0m\u001b[1;33m\u001b[0m\u001b[0m\n\u001b[0;32m   1183\u001b[0m     \u001b[1;32mif\u001b[0m \u001b[0mremote\u001b[0m\u001b[1;33m.\u001b[0m\u001b[0mchecksum\u001b[0m \u001b[1;33m!=\u001b[0m \u001b[0mchecksum\u001b[0m\u001b[1;33m:\u001b[0m\u001b[1;33m\u001b[0m\u001b[1;33m\u001b[0m\u001b[0m\n",
      "\u001b[1;32m~\\anaconda3\\lib\\urllib\\request.py\u001b[0m in \u001b[0;36murlretrieve\u001b[1;34m(url, filename, reporthook, data)\u001b[0m\n\u001b[0;32m    274\u001b[0m \u001b[1;33m\u001b[0m\u001b[0m\n\u001b[0;32m    275\u001b[0m             \u001b[1;32mwhile\u001b[0m \u001b[1;32mTrue\u001b[0m\u001b[1;33m:\u001b[0m\u001b[1;33m\u001b[0m\u001b[1;33m\u001b[0m\u001b[0m\n\u001b[1;32m--> 276\u001b[1;33m                 \u001b[0mblock\u001b[0m \u001b[1;33m=\u001b[0m \u001b[0mfp\u001b[0m\u001b[1;33m.\u001b[0m\u001b[0mread\u001b[0m\u001b[1;33m(\u001b[0m\u001b[0mbs\u001b[0m\u001b[1;33m)\u001b[0m\u001b[1;33m\u001b[0m\u001b[1;33m\u001b[0m\u001b[0m\n\u001b[0m\u001b[0;32m    277\u001b[0m                 \u001b[1;32mif\u001b[0m \u001b[1;32mnot\u001b[0m \u001b[0mblock\u001b[0m\u001b[1;33m:\u001b[0m\u001b[1;33m\u001b[0m\u001b[1;33m\u001b[0m\u001b[0m\n\u001b[0;32m    278\u001b[0m                     \u001b[1;32mbreak\u001b[0m\u001b[1;33m\u001b[0m\u001b[1;33m\u001b[0m\u001b[0m\n",
      "\u001b[1;32m~\\anaconda3\\lib\\http\\client.py\u001b[0m in \u001b[0;36mread\u001b[1;34m(self, amt)\u001b[0m\n\u001b[0;32m    456\u001b[0m             \u001b[1;31m# Amount is given, implement using readinto\u001b[0m\u001b[1;33m\u001b[0m\u001b[1;33m\u001b[0m\u001b[1;33m\u001b[0m\u001b[0m\n\u001b[0;32m    457\u001b[0m             \u001b[0mb\u001b[0m \u001b[1;33m=\u001b[0m \u001b[0mbytearray\u001b[0m\u001b[1;33m(\u001b[0m\u001b[0mamt\u001b[0m\u001b[1;33m)\u001b[0m\u001b[1;33m\u001b[0m\u001b[1;33m\u001b[0m\u001b[0m\n\u001b[1;32m--> 458\u001b[1;33m             \u001b[0mn\u001b[0m \u001b[1;33m=\u001b[0m \u001b[0mself\u001b[0m\u001b[1;33m.\u001b[0m\u001b[0mreadinto\u001b[0m\u001b[1;33m(\u001b[0m\u001b[0mb\u001b[0m\u001b[1;33m)\u001b[0m\u001b[1;33m\u001b[0m\u001b[1;33m\u001b[0m\u001b[0m\n\u001b[0m\u001b[0;32m    459\u001b[0m             \u001b[1;32mreturn\u001b[0m \u001b[0mmemoryview\u001b[0m\u001b[1;33m(\u001b[0m\u001b[0mb\u001b[0m\u001b[1;33m)\u001b[0m\u001b[1;33m[\u001b[0m\u001b[1;33m:\u001b[0m\u001b[0mn\u001b[0m\u001b[1;33m]\u001b[0m\u001b[1;33m.\u001b[0m\u001b[0mtobytes\u001b[0m\u001b[1;33m(\u001b[0m\u001b[1;33m)\u001b[0m\u001b[1;33m\u001b[0m\u001b[1;33m\u001b[0m\u001b[0m\n\u001b[0;32m    460\u001b[0m         \u001b[1;32melse\u001b[0m\u001b[1;33m:\u001b[0m\u001b[1;33m\u001b[0m\u001b[1;33m\u001b[0m\u001b[0m\n",
      "\u001b[1;32m~\\anaconda3\\lib\\http\\client.py\u001b[0m in \u001b[0;36mreadinto\u001b[1;34m(self, b)\u001b[0m\n\u001b[0;32m    500\u001b[0m         \u001b[1;31m# connection, and the user is reading more bytes than will be provided\u001b[0m\u001b[1;33m\u001b[0m\u001b[1;33m\u001b[0m\u001b[1;33m\u001b[0m\u001b[0m\n\u001b[0;32m    501\u001b[0m         \u001b[1;31m# (for example, reading in 1k chunks)\u001b[0m\u001b[1;33m\u001b[0m\u001b[1;33m\u001b[0m\u001b[1;33m\u001b[0m\u001b[0m\n\u001b[1;32m--> 502\u001b[1;33m         \u001b[0mn\u001b[0m \u001b[1;33m=\u001b[0m \u001b[0mself\u001b[0m\u001b[1;33m.\u001b[0m\u001b[0mfp\u001b[0m\u001b[1;33m.\u001b[0m\u001b[0mreadinto\u001b[0m\u001b[1;33m(\u001b[0m\u001b[0mb\u001b[0m\u001b[1;33m)\u001b[0m\u001b[1;33m\u001b[0m\u001b[1;33m\u001b[0m\u001b[0m\n\u001b[0m\u001b[0;32m    503\u001b[0m         \u001b[1;32mif\u001b[0m \u001b[1;32mnot\u001b[0m \u001b[0mn\u001b[0m \u001b[1;32mand\u001b[0m \u001b[0mb\u001b[0m\u001b[1;33m:\u001b[0m\u001b[1;33m\u001b[0m\u001b[1;33m\u001b[0m\u001b[0m\n\u001b[0;32m    504\u001b[0m             \u001b[1;31m# Ideally, we would raise IncompleteRead if the content-length\u001b[0m\u001b[1;33m\u001b[0m\u001b[1;33m\u001b[0m\u001b[1;33m\u001b[0m\u001b[0m\n",
      "\u001b[1;32m~\\anaconda3\\lib\\socket.py\u001b[0m in \u001b[0;36mreadinto\u001b[1;34m(self, b)\u001b[0m\n\u001b[0;32m    667\u001b[0m         \u001b[1;32mwhile\u001b[0m \u001b[1;32mTrue\u001b[0m\u001b[1;33m:\u001b[0m\u001b[1;33m\u001b[0m\u001b[1;33m\u001b[0m\u001b[0m\n\u001b[0;32m    668\u001b[0m             \u001b[1;32mtry\u001b[0m\u001b[1;33m:\u001b[0m\u001b[1;33m\u001b[0m\u001b[1;33m\u001b[0m\u001b[0m\n\u001b[1;32m--> 669\u001b[1;33m                 \u001b[1;32mreturn\u001b[0m \u001b[0mself\u001b[0m\u001b[1;33m.\u001b[0m\u001b[0m_sock\u001b[0m\u001b[1;33m.\u001b[0m\u001b[0mrecv_into\u001b[0m\u001b[1;33m(\u001b[0m\u001b[0mb\u001b[0m\u001b[1;33m)\u001b[0m\u001b[1;33m\u001b[0m\u001b[1;33m\u001b[0m\u001b[0m\n\u001b[0m\u001b[0;32m    670\u001b[0m             \u001b[1;32mexcept\u001b[0m \u001b[0mtimeout\u001b[0m\u001b[1;33m:\u001b[0m\u001b[1;33m\u001b[0m\u001b[1;33m\u001b[0m\u001b[0m\n\u001b[0;32m    671\u001b[0m                 \u001b[0mself\u001b[0m\u001b[1;33m.\u001b[0m\u001b[0m_timeout_occurred\u001b[0m \u001b[1;33m=\u001b[0m \u001b[1;32mTrue\u001b[0m\u001b[1;33m\u001b[0m\u001b[1;33m\u001b[0m\u001b[0m\n",
      "\u001b[1;32m~\\anaconda3\\lib\\ssl.py\u001b[0m in \u001b[0;36mrecv_into\u001b[1;34m(self, buffer, nbytes, flags)\u001b[0m\n\u001b[0;32m   1239\u001b[0m                   \u001b[1;34m\"non-zero flags not allowed in calls to recv_into() on %s\"\u001b[0m \u001b[1;33m%\u001b[0m\u001b[1;33m\u001b[0m\u001b[1;33m\u001b[0m\u001b[0m\n\u001b[0;32m   1240\u001b[0m                   self.__class__)\n\u001b[1;32m-> 1241\u001b[1;33m             \u001b[1;32mreturn\u001b[0m \u001b[0mself\u001b[0m\u001b[1;33m.\u001b[0m\u001b[0mread\u001b[0m\u001b[1;33m(\u001b[0m\u001b[0mnbytes\u001b[0m\u001b[1;33m,\u001b[0m \u001b[0mbuffer\u001b[0m\u001b[1;33m)\u001b[0m\u001b[1;33m\u001b[0m\u001b[1;33m\u001b[0m\u001b[0m\n\u001b[0m\u001b[0;32m   1242\u001b[0m         \u001b[1;32melse\u001b[0m\u001b[1;33m:\u001b[0m\u001b[1;33m\u001b[0m\u001b[1;33m\u001b[0m\u001b[0m\n\u001b[0;32m   1243\u001b[0m             \u001b[1;32mreturn\u001b[0m \u001b[0msuper\u001b[0m\u001b[1;33m(\u001b[0m\u001b[1;33m)\u001b[0m\u001b[1;33m.\u001b[0m\u001b[0mrecv_into\u001b[0m\u001b[1;33m(\u001b[0m\u001b[0mbuffer\u001b[0m\u001b[1;33m,\u001b[0m \u001b[0mnbytes\u001b[0m\u001b[1;33m,\u001b[0m \u001b[0mflags\u001b[0m\u001b[1;33m)\u001b[0m\u001b[1;33m\u001b[0m\u001b[1;33m\u001b[0m\u001b[0m\n",
      "\u001b[1;32m~\\anaconda3\\lib\\ssl.py\u001b[0m in \u001b[0;36mread\u001b[1;34m(self, len, buffer)\u001b[0m\n\u001b[0;32m   1097\u001b[0m         \u001b[1;32mtry\u001b[0m\u001b[1;33m:\u001b[0m\u001b[1;33m\u001b[0m\u001b[1;33m\u001b[0m\u001b[0m\n\u001b[0;32m   1098\u001b[0m             \u001b[1;32mif\u001b[0m \u001b[0mbuffer\u001b[0m \u001b[1;32mis\u001b[0m \u001b[1;32mnot\u001b[0m \u001b[1;32mNone\u001b[0m\u001b[1;33m:\u001b[0m\u001b[1;33m\u001b[0m\u001b[1;33m\u001b[0m\u001b[0m\n\u001b[1;32m-> 1099\u001b[1;33m                 \u001b[1;32mreturn\u001b[0m \u001b[0mself\u001b[0m\u001b[1;33m.\u001b[0m\u001b[0m_sslobj\u001b[0m\u001b[1;33m.\u001b[0m\u001b[0mread\u001b[0m\u001b[1;33m(\u001b[0m\u001b[0mlen\u001b[0m\u001b[1;33m,\u001b[0m \u001b[0mbuffer\u001b[0m\u001b[1;33m)\u001b[0m\u001b[1;33m\u001b[0m\u001b[1;33m\u001b[0m\u001b[0m\n\u001b[0m\u001b[0;32m   1100\u001b[0m             \u001b[1;32melse\u001b[0m\u001b[1;33m:\u001b[0m\u001b[1;33m\u001b[0m\u001b[1;33m\u001b[0m\u001b[0m\n\u001b[0;32m   1101\u001b[0m                 \u001b[1;32mreturn\u001b[0m \u001b[0mself\u001b[0m\u001b[1;33m.\u001b[0m\u001b[0m_sslobj\u001b[0m\u001b[1;33m.\u001b[0m\u001b[0mread\u001b[0m\u001b[1;33m(\u001b[0m\u001b[0mlen\u001b[0m\u001b[1;33m)\u001b[0m\u001b[1;33m\u001b[0m\u001b[1;33m\u001b[0m\u001b[0m\n",
      "\u001b[1;31mKeyboardInterrupt\u001b[0m: "
     ]
    }
   ],
   "source": [
    "newsgroups_train = fetch_20newsgroups(subset='train')"
   ]
  },
  {
   "cell_type": "code",
   "execution_count": 3,
   "metadata": {
    "ExecuteTime": {
     "end_time": "2021-04-14T18:58:50.230428Z",
     "start_time": "2021-04-14T18:58:50.218461Z"
    }
   },
   "outputs": [],
   "source": [
    "from sklearn.datasets import fetch_20newsgroups"
   ]
  },
  {
   "cell_type": "code",
   "execution_count": null,
   "metadata": {},
   "outputs": [],
   "source": []
  }
 ],
 "metadata": {
  "accelerator": "GPU",
  "colab": {
   "collapsed_sections": [],
   "name": "T516 KTrain.ipynb\"\"",
   "provenance": []
  },
  "kernelspec": {
   "display_name": "Python 3",
   "language": "python",
   "name": "python3"
  },
  "language_info": {
   "codemirror_mode": {
    "name": "ipython",
    "version": 3
   },
   "file_extension": ".py",
   "mimetype": "text/x-python",
   "name": "python",
   "nbconvert_exporter": "python",
   "pygments_lexer": "ipython3",
   "version": "3.8.5"
  },
  "varInspector": {
   "cols": {
    "lenName": 16,
    "lenType": 16,
    "lenVar": 40
   },
   "kernels_config": {
    "python": {
     "delete_cmd_postfix": "",
     "delete_cmd_prefix": "del ",
     "library": "var_list.py",
     "varRefreshCmd": "print(var_dic_list())"
    },
    "r": {
     "delete_cmd_postfix": ") ",
     "delete_cmd_prefix": "rm(",
     "library": "var_list.r",
     "varRefreshCmd": "cat(var_dic_list()) "
    }
   },
   "types_to_exclude": [
    "module",
    "function",
    "builtin_function_or_method",
    "instance",
    "_Feature"
   ],
   "window_display": false
  }
 },
 "nbformat": 4,
 "nbformat_minor": 1
}
